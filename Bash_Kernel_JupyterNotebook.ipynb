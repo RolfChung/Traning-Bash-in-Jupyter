{
 "cells": [
  {
   "cell_type": "markdown",
   "id": "elect-picking",
   "metadata": {},
   "source": [
    "# Summary\n",
    "\n",
    "<p>\n",
    "In this project the Bash Kernel of Jupyter is used as training ground for Bash.<br>\n",
    "The challenge is less the Bash programming language than setting up the environment in Jupyter.<br>\n",
    "Several problems with regard to this are discussed below and solutions provided<br>\n",
    "</p>\n",
    "\n",
    "<p>\n",
    "The set up required the Bash Kernel, connecting Anaconda to Bash, and starting Bash from Gitbash.\n",
    "This made the %% Bash cell magic work here.\n",
    "<p>\n",
    "\n",
    "<p>\n",
    "\"Bash is a command language interpreter. It is widely available on various operating systems and is a default command interpreter on most GNU/Linux systems. The name is an acronym for the ‘Bourne-Again SHell’.<br>\n",
    "<a href=\"https://linuxconfig.org/bash-scripting-tutorial-for-beginners\" target=\"_blank\">linuxconfig</a> \"\n",
    "<p>\n",
    "\n",
    "<p>\n",
    "A lot of Bash functionality is explored here, for example:\n",
    "</p>\n",
    "\n",
    "<ul>\n",
    "  <li>Bash basics like changing and making directories.</li>\n",
    "  <li>Concatenating</li>\n",
    "  <li>Selecting variables and text with grep and egrep</li>\n",
    "  <li>Creating bash and txt files.</li>\n",
    "  <li>For Loops</li>\n",
    "  <li>While Loops</li>\n",
    "  <li>Shell variables</li>\n",
    "  <li>If-Else statements</li>\n",
    "  <li>Bash functions</li>\n",
    "  <li>Doing calculations with bc</li>\n",
    "  <li>Using String arrays.</li>\n",
    "</ul> \n",
    "\n",
    "<p>\n",
    "This is an ongoing project and is going to be extended in the future.\n",
    "</p>\n"
   ]
  },
  {
   "cell_type": "code",
   "execution_count": 1,
   "id": "fleet-twelve",
   "metadata": {},
   "outputs": [],
   "source": [
    "import bash_kernel\n",
    "import subprocess\n",
    "import config"
   ]
  },
  {
   "cell_type": "code",
   "execution_count": 2,
   "id": "powerful-reproduction",
   "metadata": {},
   "outputs": [
    {
     "data": {
      "text/plain": [
       "2"
      ]
     },
     "execution_count": 2,
     "metadata": {},
     "output_type": "execute_result"
    }
   ],
   "source": [
    "1+1"
   ]
  },
  {
   "cell_type": "markdown",
   "id": "previous-bubble",
   "metadata": {},
   "source": [
    "### Does bash cell magic work?\n",
    "\n",
    "<p>\n",
    "It works only as far as I can say if the jupyter notebook ist started\n",
    "from Git Bash with<br>\n",
    "</p>\n",
    "\n",
    "<p>\n",
    "\"In your GitBash prompt type the following command<br>\n",
    ". Anaconda3/Scripts/activate<br>\n",
    "assuming you are in your home directory. This will allow you to run jupyter from GitBash and also use UNIX commands from jupyter.\"<br>\n",
    "<a href=\"https://stackoverflow.com/questions/54857860/jupyter-notebook-from-git-bash-here\" target=\"_blank\">Stack</a> \n",
    "</p>\n",
    "\n",
    "\n"
   ]
  },
  {
   "cell_type": "code",
   "execution_count": 3,
   "id": "recognized-supplier",
   "metadata": {},
   "outputs": [
    {
     "name": "stdout",
     "output_type": "stream",
     "text": [
      "gif\n",
      "jpg\n",
      "png\n"
     ]
    }
   ],
   "source": [
    "%%bash \n",
    "for filetype in gif jpg png;\n",
    "do \n",
    "echo $filetype\n",
    "done"
   ]
  },
  {
   "cell_type": "code",
   "execution_count": 4,
   "id": "bigger-scientist",
   "metadata": {},
   "outputs": [
    {
     "name": "stdout",
     "output_type": "stream",
     "text": [
      "conda 4.10.1\n",
      "Python 3.9.6\n"
     ]
    }
   ],
   "source": [
    "!conda -V\n",
    "!python -V"
   ]
  },
  {
   "cell_type": "code",
   "execution_count": 5,
   "id": "favorite-delaware",
   "metadata": {},
   "outputs": [
    {
     "name": "stdout",
     "output_type": "stream",
     "text": [
      "gamarandor/data_science/data_science_projects/data_camp_projects/bash\n"
     ]
    }
   ],
   "source": [
    "print(config.path)"
   ]
  },
  {
   "cell_type": "code",
   "execution_count": 6,
   "id": "faced-viking",
   "metadata": {},
   "outputs": [
    {
     "name": "stdout",
     "output_type": "stream",
     "text": [
      "bash/tree_storage\n"
     ]
    }
   ],
   "source": [
    "print(config.treestorage_path)"
   ]
  },
  {
   "cell_type": "markdown",
   "id": "secret-buyer",
   "metadata": {},
   "source": [
    "#### A little bit of magic."
   ]
  },
  {
   "cell_type": "code",
   "execution_count": 7,
   "id": "inner-compound",
   "metadata": {},
   "outputs": [],
   "source": [
    "# %magic"
   ]
  },
  {
   "cell_type": "code",
   "execution_count": 8,
   "id": "classical-labor",
   "metadata": {},
   "outputs": [],
   "source": [
    "# %cd?"
   ]
  },
  {
   "cell_type": "code",
   "execution_count": 9,
   "id": "tender-ministry",
   "metadata": {},
   "outputs": [],
   "source": [
    "# %lsmagic"
   ]
  },
  {
   "cell_type": "code",
   "execution_count": 10,
   "id": "driving-dividend",
   "metadata": {},
   "outputs": [],
   "source": [
    "# %magic bash"
   ]
  },
  {
   "cell_type": "markdown",
   "id": "radio-malawi",
   "metadata": {},
   "source": [
    "#### Listing packages installed in this environment."
   ]
  },
  {
   "cell_type": "code",
   "execution_count": 11,
   "id": "anticipated-patrol",
   "metadata": {},
   "outputs": [
    {
     "name": "stdout",
     "output_type": "stream",
     "text": [
      "Package                       Version\n",
      "----------------------------- -------------------\n",
      "backcall                      0.2.0\n",
      "backports.functools-lru-cache 1.6.4\n",
      "bash-kernel                   0.7.2\n",
      "certifi                       2021.5.30\n",
      "colorama                      0.4.4\n",
      "debugpy                       1.3.0\n",
      "decorator                     5.0.9\n",
      "ipykernel                     6.0.1\n",
      "ipython                       7.25.0\n",
      "ipython-genutils              0.2.0\n",
      "jedi                          0.18.0\n",
      "jupyter-client                6.1.12\n",
      "jupyter-core                  4.7.1\n",
      "matplotlib-inline             0.1.2\n",
      "parso                         0.8.2\n",
      "pexpect                       4.8.0\n",
      "pickleshare                   0.7.5\n",
      "pip                           21.1.3\n",
      "prompt-toolkit                3.0.19\n",
      "ptyprocess                    0.7.0\n",
      "Pygments                      2.9.0\n",
      "python-dateutil               2.8.1\n",
      "pywin32                       300\n",
      "pyzmq                         22.1.0\n",
      "setuptools                    49.6.0.post20210108\n",
      "six                           1.16.0\n",
      "tornado                       6.1\n",
      "traitlets                     5.0.5\n",
      "wcwidth                       0.2.5\n",
      "wheel                         0.36.2\n",
      "wincertstore                  0.2\n"
     ]
    }
   ],
   "source": [
    "!pip list"
   ]
  },
  {
   "cell_type": "code",
   "execution_count": 12,
   "id": "defined-writer",
   "metadata": {},
   "outputs": [
    {
     "name": "stdout",
     "output_type": "stream",
     "text": [
      "Listing...\n",
      "accountsservice/bionic,now 0.6.45-1ubuntu1 amd64 [installed,automatic]\n",
      "acl/bionic,now 2.2.52-3build1 amd64 [installed,automatic]\n",
      "acpid/bionic,now 1:2.0.28-1ubuntu1 amd64 [installed,automatic]\n",
      "adduser/bionic,now 3.116ubuntu1 all [installed,automatic]\n"
     ]
    },
    {
     "name": "stderr",
     "output_type": "stream",
     "text": [
      "\n",
      "WARNING: apt does not have a stable CLI interface. Use with caution in scripts.\n",
      "\n"
     ]
    }
   ],
   "source": [
    "%%bash\n",
    "apt --installed list | head -n 5"
   ]
  },
  {
   "cell_type": "markdown",
   "id": "documented-submission",
   "metadata": {},
   "source": [
    "<p>\n",
    "Retrieving information about the CPU.\n",
    "</p>"
   ]
  },
  {
   "cell_type": "code",
   "execution_count": 13,
   "id": "academic-bearing",
   "metadata": {},
   "outputs": [
    {
     "name": "stdout",
     "output_type": "stream",
     "text": [
      "Architecture:        x86_64\n",
      "CPU op-mode(s):      32-bit, 64-bit\n",
      "Byte Order:          Little Endian\n"
     ]
    }
   ],
   "source": [
    "%%bash\n",
    "lscpu | head -n 3"
   ]
  },
  {
   "cell_type": "markdown",
   "id": "packed-modeling",
   "metadata": {},
   "source": [
    "#### Displaying paths and files."
   ]
  },
  {
   "cell_type": "code",
   "execution_count": 14,
   "id": "chemical-rally",
   "metadata": {},
   "outputs": [
    {
     "data": {
      "text/plain": [
       "'C:\\\\Users\\\\gamarandor\\\\data_science\\\\data_science_projects\\\\data_camp_projects\\\\bash'"
      ]
     },
     "execution_count": 14,
     "metadata": {},
     "output_type": "execute_result"
    }
   ],
   "source": [
    "%pwd"
   ]
  },
  {
   "cell_type": "code",
   "execution_count": 15,
   "id": "identical-stable",
   "metadata": {},
   "outputs": [],
   "source": [
    "# pwd"
   ]
  },
  {
   "cell_type": "code",
   "execution_count": 16,
   "id": "demonstrated-private",
   "metadata": {},
   "outputs": [],
   "source": [
    "#!dir"
   ]
  },
  {
   "cell_type": "markdown",
   "id": "relative-audience",
   "metadata": {},
   "source": [
    "#### Get help."
   ]
  },
  {
   "cell_type": "code",
   "execution_count": 17,
   "id": "dimensional-quarter",
   "metadata": {},
   "outputs": [
    {
     "name": "stdout",
     "output_type": "stream",
     "text": [
      "Erstellt ein Verzeichnis.\n",
      "\n",
      "MKDIR [Laufwerk:]Pfad\n",
      "MD    [Laufwerk:]Pfad\n",
      "\n",
      "Wenn die Befehlserweiterungen aktiviert sind, wird MKDIR folgendermaÃŸen\n",
      "verÃ¤ndert:\n",
      "\n",
      "MKDIR erstellt, wenn nÃ¶tig, jedes Zwischenverzeichnis. Wenn zum\n",
      "Beispiel das Verzeichnis \\a nicht existiert, dann entspricht\n",
      "\n",
      "    mkdir \\a\\b\\c\\d\n",
      "\n",
      "der folgenden Befehlsfolge:\n",
      "\n",
      "    mkdir \\a\n",
      "    chdir \\a\n",
      "    mkdir b\n",
      "    chdir b\n",
      "    mkdir c\n",
      "    chdir c\n",
      "    mkdir d\n",
      "\n",
      "Diese Folge von Befehlen muss angegeben werden, wenn die Befehlserweiterungen \n",
      "nicht aktiviert sind.\n"
     ]
    }
   ],
   "source": [
    "# !man head\n",
    "!help Mkdir"
   ]
  },
  {
   "cell_type": "markdown",
   "id": "fatal-cabin",
   "metadata": {},
   "source": [
    "#### Make a directory."
   ]
  },
  {
   "cell_type": "code",
   "execution_count": 18,
   "id": "alien-southeast",
   "metadata": {},
   "outputs": [
    {
     "name": "stderr",
     "output_type": "stream",
     "text": [
      "Ein Unterverzeichnis oder eine Datei mit dem Namen \"textfiles\" existiert bereits.\n"
     ]
    }
   ],
   "source": [
    "!Mkdir \"textfiles\""
   ]
  },
  {
   "cell_type": "code",
   "execution_count": 19,
   "id": "nuclear-window",
   "metadata": {},
   "outputs": [],
   "source": [
    "# !Mkdir \"poetry\""
   ]
  },
  {
   "cell_type": "markdown",
   "id": "assumed-conservative",
   "metadata": {},
   "source": [
    "#### Checking if directory exists."
   ]
  },
  {
   "cell_type": "code",
   "execution_count": 20,
   "id": "productive-amazon",
   "metadata": {},
   "outputs": [
    {
     "name": "stdout",
     "output_type": "stream",
     "text": [
      "Already Exists\n"
     ]
    }
   ],
   "source": [
    "!If Exist \"textfiles\" (echo Already Exists) else (echo Doesn’t exist)"
   ]
  },
  {
   "cell_type": "markdown",
   "id": "minor-soccer",
   "metadata": {},
   "source": [
    "##### Making a temp directory and subdirectories for storing temporary files."
   ]
  },
  {
   "cell_type": "code",
   "execution_count": 21,
   "id": "powered-olympus",
   "metadata": {},
   "outputs": [
    {
     "name": "stderr",
     "output_type": "stream",
     "text": [
      "Ein Unterverzeichnis oder eine Datei mit dem Namen \"temp\" existiert bereits.\n"
     ]
    }
   ],
   "source": [
    "!Mkdir temp"
   ]
  },
  {
   "cell_type": "code",
   "execution_count": 22,
   "id": "independent-batman",
   "metadata": {},
   "outputs": [
    {
     "name": "stdout",
     "output_type": "stream",
     "text": [
      "__pycache__\n",
      "backup\n",
      "Bash_Kernel_JupyterNotebook.ipynb\n",
      "config.path\n",
      "config.py\n",
      "csv_files\n",
      "fruits\n",
      "history\n",
      "logfiles\n",
      "loop.sh\n",
      "novels\n",
      "poetry\n",
      "remove.ipynb\n",
      "sh\n",
      "temp\n",
      "textfiles\n",
      "tree_storage\n"
     ]
    }
   ],
   "source": [
    "!ls"
   ]
  },
  {
   "cell_type": "code",
   "execution_count": 23,
   "id": "swiss-lyric",
   "metadata": {},
   "outputs": [
    {
     "name": "stdout",
     "output_type": "stream",
     "text": [
      "C:\\Users\\gamarandor\\data_science\\data_science_projects\\data_camp_projects\\bash\n"
     ]
    }
   ],
   "source": [
    "!pwd"
   ]
  },
  {
   "cell_type": "markdown",
   "id": "lyric-trash",
   "metadata": {},
   "source": [
    "Creating subdirectories in bash kernel requires quoatation marks.<br>\n",
    "This is not necessary in the shell."
   ]
  },
  {
   "cell_type": "code",
   "execution_count": 24,
   "id": "demanding-marketplace",
   "metadata": {},
   "outputs": [
    {
     "name": "stderr",
     "output_type": "stream",
     "text": [
      "Ein Unterverzeichnis oder eine Datei mit dem Namen \"temp/subdirectory\" existiert bereits.\n"
     ]
    }
   ],
   "source": [
    "!mkdir \"temp/subdirectory\""
   ]
  },
  {
   "cell_type": "code",
   "execution_count": 25,
   "id": "mexican-breed",
   "metadata": {},
   "outputs": [
    {
     "name": "stderr",
     "output_type": "stream",
     "text": [
      "Ein Unterverzeichnis oder eine Datei mit dem Namen \"temp/sub1, sub2, sub3\" existiert bereits.\n"
     ]
    }
   ],
   "source": [
    "!mkdir \"temp/{'sub1, sub2, sub3'}\""
   ]
  },
  {
   "cell_type": "code",
   "execution_count": 26,
   "id": "mexican-period",
   "metadata": {},
   "outputs": [
    {
     "name": "stdout",
     "output_type": "stream",
     "text": [
      "sub1, sub2, sub3\n",
      "subdirectory\n"
     ]
    }
   ],
   "source": [
    "!ls temp"
   ]
  },
  {
   "cell_type": "markdown",
   "id": "judicial-sellers",
   "metadata": {},
   "source": [
    "List all files in any directory."
   ]
  },
  {
   "cell_type": "code",
   "execution_count": 27,
   "id": "mexican-queensland",
   "metadata": {},
   "outputs": [
    {
     "name": "stdout",
     "output_type": "stream",
     "text": [
      ".:\n",
      "__pycache__\n",
      "backup\n",
      "Bash_Kernel_JupyterNotebook.ipynb\n",
      "config.path\n",
      "config.py\n",
      "csv_files\n",
      "fruits\n",
      "history\n",
      "logfiles\n",
      "loop.sh\n",
      "novels\n",
      "poetry\n",
      "remove.ipynb\n",
      "sh\n",
      "temp\n",
      "textfiles\n",
      "tree_storage\n",
      "\n",
      "./__pycache__:\n",
      "config.cpython-39.pyc\n",
      "\n",
      "./backup:\n",
      "backup_2\n",
      "bigbang_foo.txt\n",
      "bigbang_foo_delete.txt\n",
      "bigbang_theory.txt\n",
      "dickens_copperfield.txt\n",
      "headlines.sh\n",
      "poe_dreams.txt\n",
      "poe_raven.txt\n",
      "replace.bash\n",
      "tolstoi_tale_two_cities.txt\n",
      "\n",
      "./backup/backup_2:\n",
      "bigbang_theory.txt\n",
      "dickens_copperfield.txt\n",
      "dickens_tale_two_cities.txt\n",
      "poe_dreams.txt\n",
      "tolstoi_tale_two_cities.txt\n",
      "\n",
      "./config.path:\n",
      "fruits\n",
      "\n",
      "./config.path/fruits:\n",
      "\n",
      "./csv_files:\n",
      "historical_projections.csv\n",
      "merge_cols.csv\n",
      "nba-tattoos-data.csv\n",
      "nba_historic\n",
      "players.csv\n",
      "README.md\n",
      "year_2013.csv\n",
      "\n",
      "./csv_files/nba_historic:\n",
      "nba_historic_1.csv\n",
      "nba_historic_2.csv\n",
      "nba_historic_3.csv\n",
      "\n",
      "./fruits:\n",
      "fruits.txt\n",
      "\n",
      "./history:\n",
      "history_1.csv\n",
      "\n",
      "./logfiles:\n",
      "logfile_1.txt\n",
      "\n",
      "./novels:\n",
      "dickens_copperfield.txt\n",
      "dickens_tale_two_cities.txt\n",
      "\n",
      "./poetry:\n",
      "poe_dreams.txt\n",
      "poe_eldorado.txt\n",
      "poe_raven.txt\n",
      "poe_raven_forged.txt\n",
      "\n",
      "./sh:\n",
      "animals.bash\n",
      "bash_1.bash\n",
      "count_tattoos.bash\n",
      "count_tattoos_2.bash\n",
      "extract.bash\n",
      "extract.sh\n",
      "extract_1.sh\n",
      "find.bash\n",
      "find_33.bash\n",
      "find_term.bash\n",
      "hello_world.bash\n",
      "hello_world_2.bash\n",
      "hello_world_2.txt\n",
      "hello_world_3.txt\n",
      "linecount.bash\n",
      "linecount_1.txt\n",
      "loop_count.sh\n",
      "loop_head_grep.bash\n",
      "loop_lines.bash\n",
      "output\n",
      "poe_raven.txt\n",
      "replace.bash\n",
      "replace.sh\n",
      "two_commands.bash\n",
      "\n",
      "./sh/output:\n",
      "linecounts_nba.out\n",
      "loop_count_2.output\n",
      "loop_head_grep.output\n",
      "nba_extracted.out\n",
      "nba_extracted.txt\n",
      "output_1.txt"
     ]
    }
   ],
   "source": [
    "!ls -R"
   ]
  },
  {
   "cell_type": "markdown",
   "id": "medical-wisconsin",
   "metadata": {},
   "source": [
    "#### Creating and writing text into txt-files.\n",
    "\n",
    "<p>\n",
    "A line break is written with \"echo -e \"Hello,\\nWorld!\"<br>\n",
    "However certain editors like here are not understanding the \\n as a command.<br>\n",
    "Therefore multiple lines are written here by repeating echo.\n",
    "</p>"
   ]
  },
  {
   "cell_type": "code",
   "execution_count": 28,
   "id": "beautiful-sheet",
   "metadata": {},
   "outputs": [
    {
     "name": "stdout",
     "output_type": "stream",
     "text": [
      "\n",
      "span.out\n",
      "\n",
      "./temp:\n",
      "sub1, sub2, sub3\n",
      "subdirectory\n",
      "\n",
      "./temp/sub1, sub2, sub3:\n",
      "\n",
      "./temp/subdirectory:\n",
      "\n",
      "./textfiles:\n",
      "customers.txt\n",
      "customers_read.bash\n",
      "trees.txt\n",
      "trees_2.txt\n",
      "trees_3.txt\n",
      "trees_concat_1.txt\n",
      "trees_concat_2.txt\n",
      "\n",
      "./tree_storage:\n",
      "customers.txt\n",
      "trees.txt\n",
      "trees_2.txt\n",
      "trees_3.txt\n",
      "trees_concat_1.txt\n",
      "trees_concat_2.txt\n",
      "trees_copy.txt\n"
     ]
    }
   ],
   "source": [
    "!echo oak > textfiles/trees.txt\n",
    "!echo palm >> textfiles/trees.txt \n",
    "!echo spruce >> textfiles/trees.txt "
   ]
  },
  {
   "cell_type": "code",
   "execution_count": 29,
   "id": "honest-allen",
   "metadata": {},
   "outputs": [
    {
     "data": {
      "text/plain": [
       "CompletedProcess(args=['cat', 'trees.txt'], returncode=1)"
      ]
     },
     "execution_count": 29,
     "metadata": {},
     "output_type": "execute_result"
    }
   ],
   "source": [
    "subprocess.run([\"cat\", \"trees.txt\"], shell=True)"
   ]
  },
  {
   "cell_type": "code",
   "execution_count": 30,
   "id": "southeast-wildlife",
   "metadata": {},
   "outputs": [
    {
     "name": "stdout",
     "output_type": "stream",
     "text": [
      "CompletedProcess(args=['cat'], returncode=0, stdout='trees.txt', stderr='')\n"
     ]
    }
   ],
   "source": [
    "import subprocess\n",
    "output = subprocess.run([\"cat\"], input=\"trees.txt\", capture_output=True,\n",
    "  text=True, check=True)\n",
    "print (output)"
   ]
  },
  {
   "cell_type": "code",
   "execution_count": 31,
   "id": "behind-analyst",
   "metadata": {},
   "outputs": [],
   "source": [
    "!touch textfiles/trees_2.txt"
   ]
  },
  {
   "cell_type": "code",
   "execution_count": 32,
   "id": "about-multimedia",
   "metadata": {},
   "outputs": [],
   "source": [
    "echo birch > textfiles/trees_2.txt"
   ]
  },
  {
   "cell_type": "code",
   "execution_count": 33,
   "id": "connected-creature",
   "metadata": {},
   "outputs": [],
   "source": [
    "!echo lime >> textfiles/trees_2.txt"
   ]
  },
  {
   "cell_type": "code",
   "execution_count": 34,
   "id": "otherwise-surge",
   "metadata": {},
   "outputs": [],
   "source": [
    "!echo maple >> textfiles/trees_2.txt"
   ]
  },
  {
   "cell_type": "code",
   "execution_count": 35,
   "id": "published-testament",
   "metadata": {},
   "outputs": [],
   "source": [
    "!touch textfiles/trees_3.txt"
   ]
  },
  {
   "cell_type": "markdown",
   "id": "recovered-drill",
   "metadata": {},
   "source": [
    "Altnernatively <b>printf</b> can write multiple lines with a line break \\n into a text file."
   ]
  },
  {
   "cell_type": "code",
   "execution_count": 36,
   "id": "ignored-tenant",
   "metadata": {},
   "outputs": [],
   "source": [
    "!printf \"hornbeam\\nhazelnut\\nchestnut\" > textfiles/trees_3.txt "
   ]
  },
  {
   "cell_type": "code",
   "execution_count": 37,
   "id": "sacred-shape",
   "metadata": {},
   "outputs": [
    {
     "name": "stdout",
     "output_type": "stream",
     "text": [
      "hello\n",
      "world\n"
     ]
    }
   ],
   "source": [
    "!printf \"hello\\nworld\\n"
   ]
  },
  {
   "cell_type": "code",
   "execution_count": 38,
   "id": "homeless-pleasure",
   "metadata": {},
   "outputs": [
    {
     "name": "stdout",
     "output_type": "stream",
     "text": [
      "hornbeam\n",
      "hazelnut\n",
      "chestnut\n"
     ]
    }
   ],
   "source": [
    "!cat textfiles/trees_3.txt"
   ]
  },
  {
   "cell_type": "markdown",
   "id": "lucky-thompson",
   "metadata": {},
   "source": [
    "#### List all files in directory."
   ]
  },
  {
   "cell_type": "code",
   "execution_count": 39,
   "id": "noted-danish",
   "metadata": {},
   "outputs": [
    {
     "name": "stdout",
     "output_type": "stream",
     "text": [
      "__pycache__\n",
      "backup\n",
      "Bash_Kernel_JupyterNotebook.ipynb\n",
      "config.path\n",
      "config.py\n",
      "csv_files\n",
      "fruits\n",
      "history\n",
      "logfiles\n",
      "loop.sh\n",
      "novels\n",
      "poetry\n",
      "remove.ipynb\n",
      "sh\n",
      "temp\n",
      "textfiles\n",
      "tree_storage\n"
     ]
    }
   ],
   "source": [
    "!ls"
   ]
  },
  {
   "cell_type": "code",
   "execution_count": 40,
   "id": "negative-martial",
   "metadata": {},
   "outputs": [
    {
     "name": "stdout",
     "output_type": "stream",
     "text": [
      "customers.txt\n",
      "customers_read.bash\n",
      "trees.txt\n",
      "trees_2.txt\n",
      "trees_3.txt\n",
      "trees_concat_1.txt\n",
      "trees_concat_2.txt\n"
     ]
    }
   ],
   "source": [
    "!ls textfiles"
   ]
  },
  {
   "cell_type": "markdown",
   "id": "photographic-trunk",
   "metadata": {},
   "source": [
    "#### Changing directory."
   ]
  },
  {
   "cell_type": "code",
   "execution_count": 41,
   "id": "bridal-atlas",
   "metadata": {},
   "outputs": [
    {
     "name": "stdout",
     "output_type": "stream",
     "text": [
      "C:\\Users\\gamarandor\\data_science\\data_science_projects\\data_camp_projects\\bash\\textfiles\n"
     ]
    }
   ],
   "source": [
    "%cd textfiles"
   ]
  },
  {
   "cell_type": "code",
   "execution_count": 42,
   "id": "dynamic-backing",
   "metadata": {},
   "outputs": [],
   "source": [
    "# !pwd"
   ]
  },
  {
   "cell_type": "markdown",
   "id": "significant-bishop",
   "metadata": {},
   "source": [
    "#### Displaying the content."
   ]
  },
  {
   "cell_type": "code",
   "execution_count": 43,
   "id": "standing-partition",
   "metadata": {},
   "outputs": [
    {
     "data": {
      "text/plain": [
       "oak \n",
       "palm \n",
       "spruce \n"
      ]
     },
     "metadata": {},
     "output_type": "display_data"
    }
   ],
   "source": [
    "more trees.txt "
   ]
  },
  {
   "cell_type": "code",
   "execution_count": 44,
   "id": "friendly-permit",
   "metadata": {},
   "outputs": [
    {
     "name": "stdout",
     "output_type": "stream",
     "text": [
      "oak \n",
      "palm \n",
      "spruce \n"
     ]
    }
   ],
   "source": [
    "!type trees.txt"
   ]
  },
  {
   "cell_type": "code",
   "execution_count": 45,
   "id": "strong-shadow",
   "metadata": {},
   "outputs": [
    {
     "name": "stdout",
     "output_type": "stream",
     "text": [
      "oak \n",
      "palm \n",
      "spruce \n"
     ]
    }
   ],
   "source": [
    "!cat trees.txt"
   ]
  },
  {
   "cell_type": "code",
   "execution_count": 46,
   "id": "appropriate-basket",
   "metadata": {},
   "outputs": [
    {
     "name": "stdout",
     "output_type": "stream",
     "text": [
      "birch \n",
      "lime \n",
      "maple \n"
     ]
    }
   ],
   "source": [
    "!cat trees_2.txt"
   ]
  },
  {
   "cell_type": "markdown",
   "id": "heavy-richmond",
   "metadata": {},
   "source": [
    "#### Citing Edgar Allan Poe - A Dream Within A Dream"
   ]
  },
  {
   "cell_type": "code",
   "execution_count": 47,
   "id": "facial-forwarding",
   "metadata": {},
   "outputs": [
    {
     "name": "stdout",
     "output_type": "stream",
     "text": [
      "C:\\Users\\gamarandor\\data_science\\data_science_projects\\data_camp_projects\\bash\\poetry\n"
     ]
    }
   ],
   "source": [
    "%cd ../poetry"
   ]
  },
  {
   "cell_type": "code",
   "execution_count": 48,
   "id": "armed-research",
   "metadata": {},
   "outputs": [
    {
     "name": "stdout",
     "output_type": "stream",
     "text": [
      "Take this kiss upon the brow!\n",
      "And, in parting from you now,\n",
      "Thus much let me avow-\n",
      "You are not wrong, who deem\n",
      "That my days have been a dream;\n",
      "Yet if hope has flown away\n",
      "In a night, or in a day,\n",
      "In a vision, or in none,\n",
      "Is it therefore the less gone?\n",
      "All that we see or seem\n",
      "Is but a dream within a dream.\n"
     ]
    }
   ],
   "source": [
    "!cat poe_dreams.txt"
   ]
  },
  {
   "cell_type": "code",
   "execution_count": 49,
   "id": "olympic-making",
   "metadata": {},
   "outputs": [
    {
     "name": "stdout",
     "output_type": "stream",
     "text": [
      "C:\\Users\\gamarandor\\data_science\\data_science_projects\\data_camp_projects\\bash\\textfiles\n"
     ]
    }
   ],
   "source": [
    "%cd ../textfiles"
   ]
  },
  {
   "cell_type": "markdown",
   "id": "catholic-swaziland",
   "metadata": {},
   "source": [
    "#### Concatenating two files."
   ]
  },
  {
   "cell_type": "code",
   "execution_count": 50,
   "id": "postal-summit",
   "metadata": {},
   "outputs": [
    {
     "name": "stderr",
     "output_type": "stream",
     "text": [
      "\n",
      "trees.txt\n",
      "\n",
      "\n",
      "\n",
      "trees_2.txt\n",
      "\n",
      "\n"
     ]
    }
   ],
   "source": [
    "!type trees.txt trees_2.txt > trees_concat_1.txt"
   ]
  },
  {
   "cell_type": "code",
   "execution_count": 51,
   "id": "palestinian-minutes",
   "metadata": {},
   "outputs": [
    {
     "name": "stdout",
     "output_type": "stream",
     "text": [
      "oak \n",
      "palm \n",
      "spruce \n",
      "birch \n",
      "lime \n",
      "maple \n"
     ]
    }
   ],
   "source": [
    "!type trees_concat_1.txt"
   ]
  },
  {
   "cell_type": "code",
   "execution_count": 52,
   "id": "august-hampshire",
   "metadata": {},
   "outputs": [],
   "source": [
    "!cat trees.txt trees_2.txt > trees_concat_2.txt"
   ]
  },
  {
   "cell_type": "code",
   "execution_count": 53,
   "id": "considered-fiber",
   "metadata": {},
   "outputs": [
    {
     "name": "stdout",
     "output_type": "stream",
     "text": [
      "oak \n",
      "palm \n",
      "spruce \n",
      "birch \n",
      "lime \n",
      "maple \n"
     ]
    }
   ],
   "source": [
    "!cat trees_concat_2.txt"
   ]
  },
  {
   "cell_type": "code",
   "execution_count": 54,
   "id": "simplified-hanging",
   "metadata": {},
   "outputs": [
    {
     "name": "stdout",
     "output_type": "stream",
     "text": [
      "C:\\Users\\gamarandor\\data_science\\data_science_projects\\data_camp_projects\\bash\n"
     ]
    }
   ],
   "source": [
    "%cd ../"
   ]
  },
  {
   "cell_type": "code",
   "execution_count": 55,
   "id": "compatible-adaptation",
   "metadata": {},
   "outputs": [],
   "source": [
    "# To home directory.\n",
    "# %cd ~"
   ]
  },
  {
   "cell_type": "markdown",
   "id": "herbal-phoenix",
   "metadata": {},
   "source": [
    "#### Copying files."
   ]
  },
  {
   "cell_type": "code",
   "execution_count": 56,
   "id": "fitted-upset",
   "metadata": {},
   "outputs": [
    {
     "name": "stderr",
     "output_type": "stream",
     "text": [
      "Ein Unterverzeichnis oder eine Datei mit dem Namen \"tree_storage\" existiert bereits.\n"
     ]
    }
   ],
   "source": [
    "!Mkdir tree_storage"
   ]
  },
  {
   "cell_type": "code",
   "execution_count": 57,
   "id": "retired-rebecca",
   "metadata": {},
   "outputs": [],
   "source": [
    "!cp textfiles/trees.txt tree_storage/trees_copy.txt"
   ]
  },
  {
   "cell_type": "code",
   "execution_count": 58,
   "id": "annual-newton",
   "metadata": {},
   "outputs": [
    {
     "data": {
      "text/plain": [
       "'C:\\\\Users\\\\gamarandor\\\\data_science\\\\data_science_projects\\\\data_camp_projects\\\\bash'"
      ]
     },
     "execution_count": 58,
     "metadata": {},
     "output_type": "execute_result"
    }
   ],
   "source": [
    "%pwd"
   ]
  },
  {
   "cell_type": "code",
   "execution_count": 59,
   "id": "caroline-worry",
   "metadata": {},
   "outputs": [],
   "source": [
    "!cp textfiles/*.txt tree_storage"
   ]
  },
  {
   "cell_type": "code",
   "execution_count": 60,
   "id": "distributed-customs",
   "metadata": {},
   "outputs": [],
   "source": [
    "%%bash\n",
    "cp backup/tolstoi_tale_two_cities.txt poetry"
   ]
  },
  {
   "cell_type": "markdown",
   "id": "structured-owner",
   "metadata": {},
   "source": [
    "<p>\n",
    "Mutiple files are copied at once with curly braces.<br>\n",
    "<b>cp backup/{tolstoi_tale_two_cities.txt, dickens_copperfield.txt} poetry</b><br>\n",
    "There are no blank spaces allowed inside the curly braces.<br>\n",
    "</p>"
   ]
  },
  {
   "cell_type": "code",
   "execution_count": 61,
   "id": "horizontal-cable",
   "metadata": {},
   "outputs": [],
   "source": [
    "%%bash\n",
    "cp backup/{tolstoi_tale_two_cities.txt,dickens_copperfield.txt} poetry"
   ]
  },
  {
   "cell_type": "code",
   "execution_count": 62,
   "id": "connected-noise",
   "metadata": {},
   "outputs": [],
   "source": [
    "%%bash\n",
    "cp backup/bigbang_theory.txt poetry/bigbang_theory.txt"
   ]
  },
  {
   "cell_type": "markdown",
   "id": "julian-cliff",
   "metadata": {},
   "source": [
    "#### Moving file from poetry to novels."
   ]
  },
  {
   "cell_type": "code",
   "execution_count": 63,
   "id": "congressional-pavilion",
   "metadata": {},
   "outputs": [
    {
     "name": "stdout",
     "output_type": "stream",
     "text": [
      "bigbang_theory.txt\n",
      "dickens_copperfield.txt\n",
      "poe_dreams.txt\n",
      "poe_eldorado.txt\n",
      "poe_raven.txt\n",
      "poe_raven_forged.txt\n",
      "tolstoi_tale_two_cities.txt\n"
     ]
    }
   ],
   "source": [
    "!ls poetry"
   ]
  },
  {
   "cell_type": "code",
   "execution_count": 64,
   "id": "statistical-andrews",
   "metadata": {},
   "outputs": [
    {
     "name": "stderr",
     "output_type": "stream",
     "text": [
      "Ein Unterverzeichnis oder eine Datei mit dem Namen \"novels\" existiert bereits.\n"
     ]
    }
   ],
   "source": [
    "!Mkdir novels"
   ]
  },
  {
   "cell_type": "code",
   "execution_count": 65,
   "id": "invisible-constitutional",
   "metadata": {},
   "outputs": [],
   "source": [
    "!mv poetry/dickens_copperfield.txt novels"
   ]
  },
  {
   "cell_type": "code",
   "execution_count": 66,
   "id": "canadian-manchester",
   "metadata": {},
   "outputs": [
    {
     "name": "stdout",
     "output_type": "stream",
     "text": [
      "dickens_copperfield.txt\n",
      "dickens_tale_two_cities.txt\n"
     ]
    }
   ],
   "source": [
    "!ls novels"
   ]
  },
  {
   "cell_type": "markdown",
   "id": "quick-commons",
   "metadata": {},
   "source": [
    "#### Rename file while moving."
   ]
  },
  {
   "cell_type": "code",
   "execution_count": 67,
   "id": "amended-scratch",
   "metadata": {},
   "outputs": [],
   "source": [
    "!mv poetry/tolstoi_tale_two_cities.txt novels/dickens_tale_two_cities.txt"
   ]
  },
  {
   "cell_type": "code",
   "execution_count": 68,
   "id": "premium-brunei",
   "metadata": {},
   "outputs": [
    {
     "name": "stdout",
     "output_type": "stream",
     "text": [
      "dickens_copperfield.txt\n",
      "dickens_tale_two_cities.txt\n"
     ]
    }
   ],
   "source": [
    "!ls novels"
   ]
  },
  {
   "cell_type": "markdown",
   "id": "virtual-minneapolis",
   "metadata": {},
   "source": [
    "#### Displaying the first 5 lines."
   ]
  },
  {
   "cell_type": "code",
   "execution_count": 69,
   "id": "steady-stream",
   "metadata": {},
   "outputs": [
    {
     "name": "stdout",
     "output_type": "stream",
     "text": [
      "A Tale of Two Cities\n",
      "By Charles Dickens\n",
      "Book the First--Recalled to LifeI The PeriodIt \n",
      "was the best of times, it was the worst of \n",
      "times, it was the age of wisdom, it was the \n"
     ]
    }
   ],
   "source": [
    "!head -n 5 novels/dickens_tale_two_cities.txt"
   ]
  },
  {
   "cell_type": "markdown",
   "id": "universal-secretary",
   "metadata": {},
   "source": [
    "##### Combining head and tail to selection a section of the lines."
   ]
  },
  {
   "cell_type": "code",
   "execution_count": 70,
   "id": "nervous-bathroom",
   "metadata": {},
   "outputs": [
    {
     "name": "stdout",
     "output_type": "stream",
     "text": [
      "A Tale of Two Cities\n",
      "By Charles Dickens\n",
      "Book the First--Recalled to LifeI The PeriodIt \n",
      "was the best of times, it was the worst of \n",
      "times, it was the age of wisdom, it was the \n"
     ]
    }
   ],
   "source": [
    "%%bash\n",
    "head -n 5 novels/dickens_tale_two_cities.txt | tail -10"
   ]
  },
  {
   "cell_type": "code",
   "execution_count": 71,
   "id": "formal-quick",
   "metadata": {},
   "outputs": [
    {
     "name": "stdout",
     "output_type": "stream",
     "text": [
      "A Tale of Two Cities\n",
      "By Charles Dickens\n",
      "Book the First--Recalled to LifeI The PeriodIt \n",
      "was the best of times, it was the worst of \n",
      "times, it was the age of wisdom, it was the \n",
      "age of foolishness, it was the epoch of \n",
      "belief, it was the epoch of incredulity, it \n",
      "was the season of Light, it was the season of \n",
      "Darkness, it was the spring of hope, it was \n",
      "the winter of despair, we had everything \n"
     ]
    }
   ],
   "source": [
    "!less novels/dickens_tale_two_cities.txt | head -n 10"
   ]
  },
  {
   "cell_type": "markdown",
   "id": "stable-connectivity",
   "metadata": {},
   "source": [
    "#### Removing bigbang_theory.txt - file"
   ]
  },
  {
   "cell_type": "code",
   "execution_count": 72,
   "id": "identified-payday",
   "metadata": {},
   "outputs": [],
   "source": [
    "!rm poetry/bigbang_theory.txt"
   ]
  },
  {
   "cell_type": "markdown",
   "id": "reported-archive",
   "metadata": {},
   "source": [
    "#### Counting statistics of a file with wc.\n",
    "<p>\n",
    "First take a look at the head of NBA draft 2015 statistics.\n",
    "</p> "
   ]
  },
  {
   "cell_type": "markdown",
   "id": "smart-assumption",
   "metadata": {},
   "source": [
    "Counting all."
   ]
  },
  {
   "cell_type": "code",
   "execution_count": 73,
   "id": "angry-catholic",
   "metadata": {},
   "outputs": [
    {
     "name": "stdout",
     "output_type": "stream",
     "text": [
      "  1091   2207 102206 csv_files/historical_projections.csv\n"
     ]
    }
   ],
   "source": [
    "!wc csv_files/historical_projections.csv"
   ]
  },
  {
   "cell_type": "code",
   "execution_count": 74,
   "id": "valuable-lemon",
   "metadata": {},
   "outputs": [
    {
     "name": "stdout",
     "output_type": "stream",
     "text": [
      "Player,Position,ID,Draft Year,Projected SPM,Superstar,Starter,Role Player,Bust\n",
      "Karl-Anthony Towns,C,karl-anthony-towns,2015,1.030605703,0.134766667,0.427183333,0.163083333,0.274966667\n",
      "Justise Winslow,SF,justise-winslow,2015,0.875328997,0.083528571,0.510904762,0.176766667,0.2288\n",
      "Stanley Johnson,SF,stanley-johnson,2015,0.679493305,0.0678,0.423733333,0.2785,0.229966667\n",
      "Jahlil Okafor,C,jahlil-okafor,2015,0.521661276,0.058716667,0.4099,0.235533333,0.29585\n"
     ]
    }
   ],
   "source": [
    "!head -n 5 csv_files/historical_projections.csv"
   ]
  },
  {
   "cell_type": "markdown",
   "id": "sapphire-geography",
   "metadata": {},
   "source": [
    "Counting lines."
   ]
  },
  {
   "cell_type": "code",
   "execution_count": 75,
   "id": "bridal-stomach",
   "metadata": {},
   "outputs": [
    {
     "name": "stdout",
     "output_type": "stream",
     "text": [
      "1091 csv_files/historical_projections.csv\n"
     ]
    }
   ],
   "source": [
    "!wc -l csv_files/historical_projections.csv"
   ]
  },
  {
   "cell_type": "markdown",
   "id": "asian-immigration",
   "metadata": {},
   "source": [
    "Counting words."
   ]
  },
  {
   "cell_type": "code",
   "execution_count": 76,
   "id": "usual-arcade",
   "metadata": {},
   "outputs": [
    {
     "name": "stdout",
     "output_type": "stream",
     "text": [
      "2207 csv_files/historical_projections.csv\n"
     ]
    }
   ],
   "source": [
    "!wc -w csv_files/historical_projections.csv"
   ]
  },
  {
   "cell_type": "markdown",
   "id": "composite-victorian",
   "metadata": {},
   "source": [
    "Counting the number of characters."
   ]
  },
  {
   "cell_type": "code",
   "execution_count": 77,
   "id": "japanese-casino",
   "metadata": {},
   "outputs": [
    {
     "name": "stdout",
     "output_type": "stream",
     "text": [
      "102206 csv_files/historical_projections.csv\n"
     ]
    }
   ],
   "source": [
    "!wc -m csv_files/historical_projections.csv"
   ]
  },
  {
   "cell_type": "markdown",
   "id": "realistic-manor",
   "metadata": {},
   "source": [
    "Counting the number of characters in the longest line of the file."
   ]
  },
  {
   "cell_type": "code",
   "execution_count": 78,
   "id": "missing-scanner",
   "metadata": {},
   "outputs": [
    {
     "name": "stdout",
     "output_type": "stream",
     "text": [
      "118 csv_files/historical_projections.csv\n"
     ]
    }
   ],
   "source": [
    "! wc -L csv_files/historical_projections.csv"
   ]
  },
  {
   "cell_type": "markdown",
   "id": "requested-threshold",
   "metadata": {},
   "source": [
    "Counting all."
   ]
  },
  {
   "cell_type": "code",
   "execution_count": 79,
   "id": "defensive-teacher",
   "metadata": {},
   "outputs": [
    {
     "name": "stdout",
     "output_type": "stream",
     "text": [
      "  1091   2207 102206 csv_files/historical_projections.csv\n"
     ]
    }
   ],
   "source": [
    "!wc csv_files/historical_projections.csv"
   ]
  },
  {
   "cell_type": "markdown",
   "id": "handmade-overhead",
   "metadata": {},
   "source": [
    "Counting the lines of several files."
   ]
  },
  {
   "cell_type": "code",
   "execution_count": 80,
   "id": "sacred-polyester",
   "metadata": {},
   "outputs": [
    {
     "name": "stdout",
     "output_type": "stream",
     "text": [
      "  1091 csv_files/historical_projections.csv\n",
      "  1729 csv_files/merge_cols.csv\n",
      "   637 csv_files/nba-tattoos-data.csv\n",
      "  1091 csv_files/players.csv\n",
      "    82 csv_files/year_2013.csv\n",
      "  4630 total\n"
     ]
    }
   ],
   "source": [
    "!wc -l csv_files/*.csv"
   ]
  },
  {
   "cell_type": "markdown",
   "id": "impressed-nature",
   "metadata": {},
   "source": [
    "#### Selecting variables or columns from a file."
   ]
  },
  {
   "cell_type": "code",
   "execution_count": 81,
   "id": "threaded-mattress",
   "metadata": {},
   "outputs": [],
   "source": [
    "!cut -d , -f 1 csv_files/historical_projections.csv > csv_files/players.csv"
   ]
  },
  {
   "cell_type": "code",
   "execution_count": 82,
   "id": "recovered-employer",
   "metadata": {},
   "outputs": [
    {
     "name": "stdout",
     "output_type": "stream",
     "text": [
      "Player\n",
      "Karl-Anthony Towns\n",
      "Justise Winslow\n",
      "Stanley Johnson\n",
      "Jahlil Okafor\n",
      "D`Angelo Russell\n",
      "Dakari Johnson\n",
      "Devin Booker\n",
      "Willie Cauley-Stein\n",
      "Rondae Hollis-Jefferson\n"
     ]
    }
   ],
   "source": [
    "!head -n 10 csv_files/players.csv"
   ]
  },
  {
   "cell_type": "code",
   "execution_count": 83,
   "id": "seven-penny",
   "metadata": {},
   "outputs": [
    {
     "name": "stdout",
     "output_type": "stream",
     "text": [
      "Darren Collison\n",
      "Jordan Hill\n",
      "Austin Daye\n",
      "Jonny Flynn\n",
      "Patrick Beverley\n",
      "Chase Budinger\n",
      "Wayne Ellington\n",
      "Sam Young\n",
      "Jeff Teague\n",
      "B.J. Mullens\n",
      "Eric Maynor\n"
     ]
    }
   ],
   "source": [
    "!head -510 csv_files/players.csv | tail +500"
   ]
  },
  {
   "cell_type": "markdown",
   "id": "obvious-impossible",
   "metadata": {},
   "source": [
    "The players file should have the number of lines like the projections files."
   ]
  },
  {
   "cell_type": "code",
   "execution_count": 84,
   "id": "talented-butterfly",
   "metadata": {},
   "outputs": [
    {
     "name": "stdout",
     "output_type": "stream",
     "text": [
      "1091 csv_files/historical_projections.csv\n",
      "1091 csv_files/players.csv\n"
     ]
    }
   ],
   "source": [
    "!wc -l csv_files/historical_projections.csv\n",
    "!wc -l csv_files/players.csv"
   ]
  },
  {
   "cell_type": "markdown",
   "id": "weighted-viking",
   "metadata": {},
   "source": [
    "#### Sorting the output."
   ]
  },
  {
   "cell_type": "code",
   "execution_count": 85,
   "id": "nonprofit-camping",
   "metadata": {},
   "outputs": [
    {
     "name": "stdout",
     "output_type": "stream",
     "text": [
      "D`Angelo Russell\n",
      "Dakari Johnson\n",
      "Devin Booker\n",
      "Jahlil Okafor\n",
      "Justise Winslow\n",
      "Karl-Anthony Towns\n",
      "Kelly Oubre Jr.\n",
      "Kevon Looney\n",
      "Player\n",
      "Rondae Hollis-Jefferson\n",
      "Sam Dekker\n",
      "Stanley Johnson\n",
      "Trey Lyles\n",
      "Tyus Jones\n",
      "Willie Cauley-Stein\n"
     ]
    }
   ],
   "source": [
    "!head -n 15 csv_files/players.csv | sort"
   ]
  },
  {
   "cell_type": "markdown",
   "id": "civil-liver",
   "metadata": {},
   "source": [
    "#### Merging columns of different files."
   ]
  },
  {
   "cell_type": "code",
   "execution_count": 86,
   "id": "immune-essence",
   "metadata": {},
   "outputs": [],
   "source": [
    "# !cat -ve  csv_files/nba-tattoos-data.csv  | head -n 4"
   ]
  },
  {
   "cell_type": "code",
   "execution_count": 87,
   "id": "bacterial-kentucky",
   "metadata": {},
   "outputs": [],
   "source": [
    "!cut -d , -f 2 csv_files/nba-tattoos-data.csv csv_files/historical_projections.csv > csv_files/merge_cols.csv"
   ]
  },
  {
   "cell_type": "markdown",
   "id": "inside-lawsuit",
   "metadata": {},
   "source": [
    "#### Chaining or piping commands with \"|\"."
   ]
  },
  {
   "cell_type": "code",
   "execution_count": 88,
   "id": "exterior-research",
   "metadata": {},
   "outputs": [
    {
     "name": "stdout",
     "output_type": "stream",
     "text": [
      "Justise Winslow,SF\n",
      "Stanley Johnson,SF\n",
      "Rondae Hollis-Jefferson,SF\n",
      "Sam Dekker,SF\n",
      "Kelly Oubre Jr.,SF\n",
      "Justin Anderson,SF\n",
      "Vince Hunter,SF\n",
      "J.P. Tokoto,SF\n",
      "Pat Connaughton,SF\n",
      "Branden Dawson,SF\n"
     ]
    }
   ],
   "source": [
    "!cut -d , -f 1,2 csv_files/historical_projections.csv | grep SF | head -n 10"
   ]
  },
  {
   "cell_type": "markdown",
   "id": "graduate-glucose",
   "metadata": {},
   "source": [
    "Number of Sf players:"
   ]
  },
  {
   "cell_type": "code",
   "execution_count": 89,
   "id": "royal-means",
   "metadata": {},
   "outputs": [
    {
     "name": "stdout",
     "output_type": "stream",
     "text": [
      "216\n"
     ]
    }
   ],
   "source": [
    "!cut -d , -f 1,2 csv_files/historical_projections.csv | grep SF | wc -l"
   ]
  },
  {
   "cell_type": "markdown",
   "id": "statewide-switch",
   "metadata": {},
   "source": [
    "Counting the lines, excluding PF, sorting, and then display the file with the fewest lines."
   ]
  },
  {
   "cell_type": "code",
   "execution_count": 90,
   "id": "crazy-institute",
   "metadata": {},
   "outputs": [
    {
     "name": "stdout",
     "output_type": "stream",
     "text": [
      "    82 csv_files/year_2013.csv\n",
      "   637 csv_files/nba-tattoos-data.csv\n",
      "  1091 csv_files/historical_projections.csv\n",
      "  1091 csv_files/players.csv\n",
      "  1729 csv_files/merge_cols.csv\n",
      "  4630 total\n"
     ]
    }
   ],
   "source": [
    "!wc -l csv_files/*.csv | grep -v PF | sort "
   ]
  },
  {
   "cell_type": "markdown",
   "id": "pharmaceutical-mediterranean",
   "metadata": {},
   "source": [
    "Something seems wrong with tattoo file."
   ]
  },
  {
   "cell_type": "markdown",
   "id": "arctic-cleaner",
   "metadata": {},
   "source": [
    "#### Selecting lines with grep.\n",
    "<p>\n",
    "Selecting all lines with \"2013\".\n",
    "</p> "
   ]
  },
  {
   "cell_type": "code",
   "execution_count": 91,
   "id": "talented-israel",
   "metadata": {},
   "outputs": [],
   "source": [
    "!grep 2013 csv_files/historical_projections.csv > csv_files/year_2013.csv"
   ]
  },
  {
   "cell_type": "code",
   "execution_count": 92,
   "id": "flexible-narrative",
   "metadata": {},
   "outputs": [
    {
     "name": "stdout",
     "output_type": "stream",
     "text": [
      "Victor Oladipo,SG,victor-oladipo,2013,1.211980125,0.160260293,0.429232385,0.174529059,0.235978263\n",
      "Nerlens Noel,C,nerlens-noel,2013,1.08444878,0.117252381,0.479164286,0.1294,0.274183333\n",
      "Otto Porter,SF,otto-porter,2013,1.032747011,0.11176473,0.499681367,0.127524591,0.261029313\n"
     ]
    }
   ],
   "source": [
    "!head -n 3  csv_files/year_2013.csv"
   ]
  },
  {
   "cell_type": "markdown",
   "id": "damaged-static",
   "metadata": {},
   "source": [
    "Grab and print the lines containing the search pattern."
   ]
  },
  {
   "cell_type": "code",
   "execution_count": 93,
   "id": "alpine-honey",
   "metadata": {
    "tags": []
   },
   "outputs": [
    {
     "name": "stdout",
     "output_type": "stream",
     "text": [
      "82\n"
     ]
    }
   ],
   "source": [
    "!grep -c 2013 csv_files/historical_projections.csv"
   ]
  },
  {
   "cell_type": "markdown",
   "id": "christian-group",
   "metadata": {},
   "source": [
    "Print with line numbers."
   ]
  },
  {
   "cell_type": "code",
   "execution_count": 94,
   "id": "preceding-sheriff",
   "metadata": {},
   "outputs": [],
   "source": [
    "!grep -n '2013' csv_files/historical_projections.csv | head -n 2"
   ]
  },
  {
   "cell_type": "markdown",
   "id": "manufactured-remains",
   "metadata": {},
   "source": [
    "Inverse the search pattern: find lines not containing 2013."
   ]
  },
  {
   "cell_type": "code",
   "execution_count": 95,
   "id": "solved-month",
   "metadata": {},
   "outputs": [],
   "source": [
    "# !pwd"
   ]
  },
  {
   "cell_type": "code",
   "execution_count": 96,
   "id": "waiting-belief",
   "metadata": {},
   "outputs": [
    {
     "name": "stdout",
     "output_type": "stream",
     "text": [
      "1009\n"
     ]
    }
   ],
   "source": [
    "!grep -vc 2013 csv_files/historical_projections.csv "
   ]
  },
  {
   "cell_type": "code",
   "execution_count": 97,
   "id": "introductory-courage",
   "metadata": {},
   "outputs": [
    {
     "name": "stderr",
     "output_type": "stream",
     "text": [
      "Ein Unterverzeichnis oder eine Datei mit dem Namen \"fruits\" existiert bereits.\n"
     ]
    }
   ],
   "source": [
    "!mkdir \"fruits\""
   ]
  },
  {
   "cell_type": "code",
   "execution_count": 98,
   "id": "single-cricket",
   "metadata": {},
   "outputs": [],
   "source": [
    "!printf \"banana\\ngrape\\nkiwi\\nmango\\napple\\ngrape\\npear\\npineapple\\nlemon\\norange\" > fruits/fruits.txt"
   ]
  },
  {
   "cell_type": "code",
   "execution_count": 99,
   "id": "touched-boxing",
   "metadata": {},
   "outputs": [
    {
     "name": "stdout",
     "output_type": "stream",
     "text": [
      "banana\n",
      "grape\n",
      "kiwi\n",
      "mango\n",
      "apple\n",
      "grape\n",
      "pear\n",
      "pineapple\n",
      "lemon\n",
      "orange\n"
     ]
    }
   ],
   "source": [
    "!cat fruits/fruits.txt"
   ]
  },
  {
   "cell_type": "code",
   "execution_count": 100,
   "id": "successful-highland",
   "metadata": {},
   "outputs": [
    {
     "name": "stdout",
     "output_type": "stream",
     "text": [
      "banana\n",
      "grape\n",
      "mango\n",
      "apple\n",
      "grape\n",
      "pear\n",
      "pineapple\n",
      "orange\n"
     ]
    }
   ],
   "source": [
    "!grep \"a\" fruits/fruits.txt"
   ]
  },
  {
   "cell_type": "code",
   "execution_count": 101,
   "id": "tender-management",
   "metadata": {},
   "outputs": [],
   "source": [
    "!grep \"z\" fruits/fruits.txt"
   ]
  },
  {
   "cell_type": "code",
   "execution_count": 102,
   "id": "assisted-greensboro",
   "metadata": {},
   "outputs": [
    {
     "data": {
      "text/plain": [
       "2"
      ]
     },
     "execution_count": 102,
     "metadata": {},
     "output_type": "execute_result"
    }
   ],
   "source": [
    "1+1"
   ]
  },
  {
   "cell_type": "markdown",
   "id": "adult-wheel",
   "metadata": {},
   "source": [
    "<p>\n",
    "Searching for a file name in a directory that contains a specific string with grep.\n",
    "</p>"
   ]
  },
  {
   "cell_type": "code",
   "execution_count": 103,
   "id": "bound-place",
   "metadata": {},
   "outputs": [
    {
     "name": "stdout",
     "output_type": "stream",
     "text": [
      "Bash_Kernel_JupyterNotebook.ipynb\n",
      "__pycache__\n",
      "backup\n",
      "config.path\n",
      "config.py\n",
      "csv_files\n",
      "fruits\n",
      "history\n",
      "logfiles\n",
      "loop.sh\n",
      "novels\n",
      "poetry\n",
      "remove.ipynb\n",
      "sh\n",
      "temp\n",
      "textfiles\n",
      "tree_storage\n"
     ]
    }
   ],
   "source": [
    "%%bash \n",
    "ls"
   ]
  },
  {
   "cell_type": "code",
   "execution_count": 104,
   "id": "directed-sigma",
   "metadata": {},
   "outputs": [
    {
     "name": "stdout",
     "output_type": "stream",
     "text": [
      "-rwxrwxrwx 1 gamarador426 gamarador426 137306 Jul 28 15:58 Bash_Kernel_JupyterNotebook.ipynb\n",
      "drwxrwxrwx 1 gamarador426 gamarador426   4096 Jul 13 16:08 temp\n",
      "drwxrwxrwx 1 gamarador426 gamarador426   4096 Jul 18 15:02 textfiles\n"
     ]
    }
   ],
   "source": [
    "%%bash \n",
    "ls -l | grep -i te"
   ]
  },
  {
   "cell_type": "markdown",
   "id": "touched-initial",
   "metadata": {},
   "source": [
    "<p>\n",
    "Searching for a string in a particular file.\n",
    "</p>"
   ]
  },
  {
   "cell_type": "code",
   "execution_count": 105,
   "id": "composite-seattle",
   "metadata": {},
   "outputs": [
    {
     "name": "stdout",
     "output_type": "stream",
     "text": [
      "into the shadowy world, when acrowd of the creatures of his brain \n"
     ]
    }
   ],
   "source": [
    "%%bash\n",
    "grep \"when\" backup/dickens_copperfield.txt"
   ]
  },
  {
   "cell_type": "markdown",
   "id": "thick-brick",
   "metadata": {},
   "source": [
    "<p>\n",
    "Searching for a string in a mutiple files.\n",
    "</p>"
   ]
  },
  {
   "cell_type": "code",
   "execution_count": 106,
   "id": "above-language",
   "metadata": {},
   "outputs": [
    {
     "name": "stdout",
     "output_type": "stream",
     "text": [
      "backup/dickens_copperfield.txt:into the shadowy world, when acrowd of the creatures of his brain \n",
      "backup/tolstoi_tale_two_cities.txt:there were growing trees, when that sufferer \n"
     ]
    }
   ],
   "source": [
    "%%bash\n",
    "grep \"when\" backup/dickens_copperfield.txt backup/tolstoi_tale_two_cities.txt backup/bigbang_theory.txt"
   ]
  },
  {
   "cell_type": "markdown",
   "id": "undefined-elements",
   "metadata": {},
   "source": [
    "<p>\n",
    "Searching for multiple strings. \n",
    "</p>"
   ]
  },
  {
   "cell_type": "code",
   "execution_count": 107,
   "id": "after-catholic",
   "metadata": {},
   "outputs": [
    {
     "name": "stdout",
     "output_type": "stream",
     "text": [
      "backup/tolstoi_tale_two_cities.txt:es\n",
      "backup/tolstoi_tale_two_cities.txt:hi\n",
      "backup/tolstoi_tale_two_cities.txt:hi\n",
      "backup/tolstoi_tale_two_cities.txt:hi\n",
      "backup/tolstoi_tale_two_cities.txt:es\n"
     ]
    }
   ],
   "source": [
    "%%bash \n",
    "grep -rio \"['the']['is']\" backup/*.txt | tail -n 5"
   ]
  },
  {
   "cell_type": "markdown",
   "id": "personal-words",
   "metadata": {},
   "source": [
    "<p>\n",
    "Ignoring the case and using a * place holder.\n",
    "</p>"
   ]
  },
  {
   "cell_type": "code",
   "execution_count": 108,
   "id": "expensive-occasions",
   "metadata": {},
   "outputs": [
    {
     "name": "stdout",
     "output_type": "stream",
     "text": [
      "backup/backup_2/dickens_copperfield.txt:Preface to this Book, that I did not find it easy to \n",
      "backup/backup_2/dickens_copperfield.txt:having finished it, to referto it with the composure which this \n",
      "backup/backup_2/dickens_copperfield.txt:still), that no one can ever believe this Narrative, in the \n"
     ]
    }
   ],
   "source": [
    "%%bash\n",
    "grep -i \"this\" backup/backup_2/*.txt | head -n 3"
   ]
  },
  {
   "cell_type": "markdown",
   "id": "ecological-sculpture",
   "metadata": {},
   "source": [
    "<p>Using a simple regular expression: \"this.*year\"</p>"
   ]
  },
  {
   "cell_type": "code",
   "execution_count": 109,
   "id": "supposed-wonder",
   "metadata": {},
   "outputs": [
    {
     "name": "stdout",
     "output_type": "stream",
     "text": [
      "backup/backup_2/dickens_tale_two_cities.txt:messages, as the spirits of this very year \n",
      "backup/backup_2/tolstoi_tale_two_cities.txt:messages, as the spirits of this very year \n"
     ]
    }
   ],
   "source": [
    "%%bash \n",
    "grep \"this.*year\" backup/backup_2/*.txt textfiles/*txt"
   ]
  },
  {
   "cell_type": "markdown",
   "id": "varied-newman",
   "metadata": {},
   "source": [
    "<p>Printing n lines after the matched strings.</p>"
   ]
  },
  {
   "cell_type": "code",
   "execution_count": 110,
   "id": "substantial-commodity",
   "metadata": {},
   "outputs": [
    {
     "name": "stdout",
     "output_type": "stream",
     "text": [
      "backup/backup_2/dickens_tale_two_cities.txt:messages, as the spirits of this very year \n",
      "backup/backup_2/dickens_tale_two_cities.txt-last past (supernaturally deficient in \n",
      "backup/backup_2/dickens_tale_two_cities.txt-originality) rapped out theirs. Mere messages \n",
      "--\n",
      "backup/backup_2/tolstoi_tale_two_cities.txt:messages, as the spirits of this very year \n",
      "backup/backup_2/tolstoi_tale_two_cities.txt-last past (supernaturally deficient in \n",
      "backup/backup_2/tolstoi_tale_two_cities.txt-originality) rapped out theirs. Mere messages \n"
     ]
    }
   ],
   "source": [
    "%%bash\n",
    "grep -A 2 \"this.*year\" backup/backup_2/*.txt textfiles/*txt"
   ]
  },
  {
   "cell_type": "markdown",
   "id": "delayed-domestic",
   "metadata": {},
   "source": [
    "<p>\n",
    "Should color the matches. Does not work here.\n",
    "</p>"
   ]
  },
  {
   "cell_type": "code",
   "execution_count": 111,
   "id": "north-filter",
   "metadata": {},
   "outputs": [
    {
     "name": "stdout",
     "output_type": "stream",
     "text": [
      "backup/backup_2/dickens_copperfield.txt:into the shadowy world, when acrowd of the creatures of his brain \n",
      "backup/backup_2/dickens_tale_two_cities.txt:there were growing trees, when that sufferer \n",
      "backup/backup_2/tolstoi_tale_two_cities.txt:there were growing trees, when that sufferer \n"
     ]
    }
   ],
   "source": [
    "%%bash\n",
    "grep \"when\" backup/backup_2/*.txt --color"
   ]
  },
  {
   "cell_type": "markdown",
   "id": "isolated-stage",
   "metadata": {},
   "source": [
    "<p>\n",
    "Counting the number of matches.\n",
    "</p>"
   ]
  },
  {
   "cell_type": "code",
   "execution_count": 112,
   "id": "invisible-dubai",
   "metadata": {},
   "outputs": [
    {
     "name": "stdout",
     "output_type": "stream",
     "text": [
      "backup/backup_2/bigbang_theory.txt:9\n",
      "backup/backup_2/dickens_copperfield.txt:13\n",
      "backup/backup_2/dickens_tale_two_cities.txt:16\n",
      "backup/backup_2/poe_dreams.txt:2\n",
      "backup/backup_2/tolstoi_tale_two_cities.txt:16\n",
      "textfiles/customers.txt:0\n",
      "textfiles/trees.txt:0\n",
      "textfiles/trees_2.txt:0\n",
      "textfiles/trees_3.txt:0\n",
      "textfiles/trees_concat_1.txt:0\n",
      "textfiles/trees_concat_2.txt:0\n"
     ]
    }
   ],
   "source": [
    "%%bash\n",
    "grep -c \"is\" backup/backup_2/*.txt textfiles/*txt"
   ]
  },
  {
   "cell_type": "markdown",
   "id": "stone-negative",
   "metadata": {},
   "source": [
    "<p>\n",
    "Inverted search displays the lines without the search term.\n",
    "</p>"
   ]
  },
  {
   "cell_type": "code",
   "execution_count": 113,
   "id": "athletic-measurement",
   "metadata": {},
   "outputs": [
    {
     "name": "stdout",
     "output_type": "stream",
     "text": [
      "backup/backup_2/bigbang_theory.txt:created by Chuck Lorre and Bill Prady, both of whom \n",
      "backup/backup_2/bigbang_theory.txt:served as executive producers on the series, along with \n",
      "backup/backup_2/bigbang_theory.txt:Steven Molaro. All three also served as head writers. It \n"
     ]
    }
   ],
   "source": [
    "%%bash\n",
    "grep -v \"is\" backup/backup_2/*.txt textfiles/*txt | head -n 3"
   ]
  },
  {
   "cell_type": "markdown",
   "id": "unsigned-medicaid",
   "metadata": {
    "tags": []
   },
   "source": [
    "#### egrep\n",
    "\n",
    "<p>\n",
    "\"The egrep command belongs to the family of the grep command \n",
    "which is used for pattern searching in Linux. If you have used the grep command, egrep works the same as grep -E (grep Extended regex’) does. Egrep scans a specific file, line to line, and prints the line(s) that contain the search string/regular expression.\"<br>\n",
    "<a href=\"https://linuxhint.com/linux_egrep_command_examples/?ck_subscriber_id=1354650867&utm_source=convertkit&utm_medium=email&utm_campaign=Day+1%3A+How+to+Always+Find+What+You%E2%80%99re+Looking+for+in+Linux+Files%20-%203934188\" target=\"_blank\">linuxhint.com</a>\n",
    "</p>"
   ]
  },
  {
   "cell_type": "code",
   "execution_count": 114,
   "id": "whole-benefit",
   "metadata": {},
   "outputs": [
    {
     "name": "stdout",
     "output_type": "stream",
     "text": [
      "backup/backup_2/dickens_copperfield.txt:Preface to this Book, that I did not find it easy to \n",
      "backup/backup_2/dickens_copperfield.txt:having finished it, to referto it with the composure which this \n",
      "backup/backup_2/dickens_copperfield.txt:still), that no one can ever believe this Narrative, in the \n"
     ]
    }
   ],
   "source": [
    "%%bash\n",
    "egrep \"this\" backup/backup_2/*.txt | head -n 3"
   ]
  },
  {
   "cell_type": "markdown",
   "id": "colored-simulation",
   "metadata": {},
   "source": [
    "<p>\n",
    "Recursively search in all sub-directories.\n",
    "</p>"
   ]
  },
  {
   "cell_type": "code",
   "execution_count": 115,
   "id": "dietary-eagle",
   "metadata": {},
   "outputs": [
    {
     "name": "stdout",
     "output_type": "stream",
     "text": [
      "20\n"
     ]
    }
   ],
   "source": [
    "%%bash\n",
    "egrep -r \"this\" backup/*.txt | wc -l"
   ]
  },
  {
   "cell_type": "code",
   "execution_count": 116,
   "id": "tribal-biotechnology",
   "metadata": {},
   "outputs": [
    {
     "name": "stdout",
     "output_type": "stream",
     "text": [
      "backup/dickens_copperfield.txt:Preface to this Book, that I did not find it easy to \n",
      "backup/dickens_copperfield.txt:having finished it, to referto it with the composure which this \n",
      "backup/dickens_copperfield.txt:still), that no one can ever believe this Narrative, in the \n"
     ]
    }
   ],
   "source": [
    "%%bash\n",
    "egrep -r \"this\" backup/*.txt | head -n 3"
   ]
  },
  {
   "cell_type": "markdown",
   "id": "banned-arctic",
   "metadata": {},
   "source": [
    "<p>Case insensitive</p>"
   ]
  },
  {
   "cell_type": "code",
   "execution_count": 117,
   "id": "driving-defense",
   "metadata": {},
   "outputs": [
    {
     "name": "stdout",
     "output_type": "stream",
     "text": [
      "110\n"
     ]
    }
   ],
   "source": [
    "%%bash\n",
    "egrep -i \"is\" backup/*.txt | wc -l"
   ]
  },
  {
   "cell_type": "markdown",
   "id": "olympic-administrator",
   "metadata": {},
   "source": [
    "<p>Only the word and not the sub-string</p>"
   ]
  },
  {
   "cell_type": "code",
   "execution_count": 118,
   "id": "hundred-rolling",
   "metadata": {},
   "outputs": [
    {
     "name": "stdout",
     "output_type": "stream",
     "text": [
      "18\n"
     ]
    }
   ],
   "source": [
    "%%bash\n",
    "egrep -w \"is\" backup/*.txt | wc -l"
   ]
  },
  {
   "cell_type": "markdown",
   "id": "greatest-apollo",
   "metadata": {},
   "source": [
    "This reduced the matches from 42 to 4."
   ]
  },
  {
   "cell_type": "markdown",
   "id": "prompt-authorization",
   "metadata": {},
   "source": [
    "<p>Printing the files containing "
   ]
  },
  {
   "cell_type": "code",
   "execution_count": 119,
   "id": "severe-guarantee",
   "metadata": {},
   "outputs": [
    {
     "name": "stdout",
     "output_type": "stream",
     "text": [
      "backup/dickens_copperfield.txt\n",
      "backup/poe_dreams.txt\n",
      "backup/poe_raven.txt\n",
      "backup/tolstoi_tale_two_cities.txt\n"
     ]
    }
   ],
   "source": [
    "%%bash\n",
    "egrep -rl \"this\" backup/*.txt textfiles/*.txt"
   ]
  },
  {
   "cell_type": "code",
   "execution_count": 120,
   "id": "faced-cotton",
   "metadata": {},
   "outputs": [
    {
     "name": "stdout",
     "output_type": "stream",
     "text": [
      "backup/dickens_copperfield.txt:this\n",
      "backup/dickens_copperfield.txt:this\n",
      "backup/dickens_copperfield.txt:this\n",
      "backup/dickens_copperfield.txt:this\n",
      "backup/poe_dreams.txt:this\n",
      "backup/poe_raven.txt:this\n",
      "backup/poe_raven.txt:this\n",
      "backup/poe_raven.txt:this\n",
      "backup/poe_raven.txt:this\n",
      "backup/poe_raven.txt:this\n",
      "backup/poe_raven.txt:this\n",
      "backup/poe_raven.txt:this\n",
      "backup/poe_raven.txt:this\n",
      "backup/poe_raven.txt:this\n",
      "backup/poe_raven.txt:this\n",
      "backup/poe_raven.txt:this\n",
      "backup/poe_raven.txt:this\n",
      "backup/poe_raven.txt:this\n",
      "backup/tolstoi_tale_two_cities.txt:this\n",
      "backup/tolstoi_tale_two_cities.txt:this\n"
     ]
    }
   ],
   "source": [
    "%%bash\n",
    "egrep -ro \"this\" backup/*.txt textfiles/*.txt"
   ]
  },
  {
   "cell_type": "markdown",
   "id": "dental-accommodation",
   "metadata": {},
   "source": [
    "<p>Some REGEX</p>"
   ]
  },
  {
   "cell_type": "code",
   "execution_count": 121,
   "id": "adopted-richmond",
   "metadata": {},
   "outputs": [
    {
     "name": "stdout",
     "output_type": "stream",
     "text": [
      "backup/bigbang_foo.txt:Productions. It received mixed reviews throughout its \n",
      "backup/bigbang_foo.txt:first season, but reception \"foo\" more favorable in the \n",
      "backup/bigbang_foo.txt:second and third seasons. Despite early mixed reviews, \n"
     ]
    }
   ],
   "source": [
    "%%bash\n",
    "egrep '[th]{2}' backup/*.txt textfiles/*.txt | head -n 10 | tail -n -3"
   ]
  },
  {
   "cell_type": "code",
   "execution_count": 122,
   "id": "regulation-lawrence",
   "metadata": {},
   "outputs": [
    {
     "name": "stdout",
     "output_type": "stream",
     "text": [
      "304\n"
     ]
    }
   ],
   "source": [
    "%%bash\n",
    "egrep '[th]{2,4}' backup/*.txt textfiles/*.txt | wc -l"
   ]
  },
  {
   "cell_type": "code",
   "execution_count": 123,
   "id": "pointed-causing",
   "metadata": {},
   "outputs": [
    {
     "name": "stdout",
     "output_type": "stream",
     "text": [
      "614\n"
     ]
    }
   ],
   "source": [
    "%%bash\n",
    "egrep '[th]+' backup/*.txt textfiles/*.txt | wc -l"
   ]
  },
  {
   "cell_type": "markdown",
   "id": "relative-pioneer",
   "metadata": {},
   "source": [
    "<p>Looking for multiple words at once.</p>"
   ]
  },
  {
   "cell_type": "code",
   "execution_count": 124,
   "id": "directed-morning",
   "metadata": {},
   "outputs": [
    {
     "name": "stdout",
     "output_type": "stream",
     "text": [
      "backup/bigbang_foo.txt:12:(Kaley Cuoco), a waitress and aspiring actress who lives \n",
      "backup/bigbang_foo.txt:22:The show \"foo\" filmed in front of a live audience, and \n",
      "backup/bigbang_foo_delete.txt:12:(Kaley Cuoco), a waitress and aspiring actress who lives \n",
      "backup/bigbang_theory.txt:12:(Kaley Cuoco), a waitress and aspiring actress who lives \n",
      "backup/bigbang_theory.txt:22:The show was filmed in front of a live audience, and \n",
      "backup/dickens_copperfield.txt:18:unless, indeed, I were to confess (which might be of less moment \n",
      "backup/tolstoi_tale_two_cities.txt:55:pincers, and his body burned alive, because he \n",
      "backup/tolstoi_tale_two_cities.txt:61:there were growing trees, when that sufferer \n"
     ]
    }
   ],
   "source": [
    "%%bash\n",
    "# $ grep -E \"(Super|Spider)man\" text\n",
    "grep -En \"(tree|confess|live)\" backup/*.txt textfiles/*.txt"
   ]
  },
  {
   "cell_type": "code",
   "execution_count": 125,
   "id": "undefined-surname",
   "metadata": {},
   "outputs": [
    {
     "name": "stdout",
     "output_type": "stream",
     "text": [
      "backup/poe_raven.txt:sitting lonely \n",
      "backup/poe_raven.txt:sitting, still \n",
      "backup/poe_raven.txt:is sitting\n",
      "backup/tolstoi_tale_two_cities.txt:congress of British subjects in America: \n"
     ]
    }
   ],
   "source": [
    "%%bash \n",
    "grep -E '[this]{5}' backup/*.txt textfiles/*.txt "
   ]
  },
  {
   "cell_type": "code",
   "execution_count": 126,
   "id": "educated-request",
   "metadata": {},
   "outputs": [
    {
     "name": "stdout",
     "output_type": "stream",
     "text": [
      "The show \"foo\" filmed in front of a live audience, and \n",
      "first season, but reception \"foo\" more favorable in the \n",
      "1 spot in its eleventh season. It \"foo\" nominated for the \n"
     ]
    }
   ],
   "source": [
    "%%bash\n",
    "cat backup/bigbang_foo.txt | grep \"foo\""
   ]
  },
  {
   "cell_type": "code",
   "execution_count": 127,
   "id": "tough-celebration",
   "metadata": {},
   "outputs": [],
   "source": [
    "%%bash\n",
    "sed '/\"foo\"/d' backup/bigbang_foo.txt > backup/bigbang_foo_delete.txt"
   ]
  },
  {
   "cell_type": "code",
   "execution_count": 128,
   "id": "plastic-mumbai",
   "metadata": {},
   "outputs": [],
   "source": [
    "%%bash\n",
    "cat backup/bigbang_foo_delete.txt | grep \"foo\" | { grep -v grep || true; }"
   ]
  },
  {
   "cell_type": "code",
   "execution_count": 129,
   "id": "banner-ethnic",
   "metadata": {},
   "outputs": [
    {
     "name": "stdout",
     "output_type": "stream",
     "text": [
      "Once upon a midnight dreary, while I pondered, weak and weary\n"
     ]
    }
   ],
   "source": [
    "%%bash\n",
    "echo 'Once upon a midnight dreary, while I pondered, weak and weary' | sed ''"
   ]
  },
  {
   "cell_type": "markdown",
   "id": "electric-hearing",
   "metadata": {},
   "source": [
    "<p>Deleting characters.</p>"
   ]
  },
  {
   "cell_type": "code",
   "execution_count": 130,
   "id": "initial-component",
   "metadata": {},
   "outputs": [
    {
     "name": "stdout",
     "output_type": "stream",
     "text": [
      "Oce upo a midight dreary, while I podered, weak ad weary\n"
     ]
    }
   ],
   "source": [
    "%%bash\n",
    "echo 'Once upon a midnight dreary, while I pondered, weak and weary' | sed -e 's/n//g'"
   ]
  },
  {
   "cell_type": "markdown",
   "id": "bridal-franchise",
   "metadata": {},
   "source": [
    "<p>Regex matching.<p>"
   ]
  },
  {
   "cell_type": "markdown",
   "id": "forced-terrorism",
   "metadata": {},
   "source": [
    "#### Some system admin tools"
   ]
  },
  {
   "cell_type": "markdown",
   "id": "boolean-sodium",
   "metadata": {},
   "source": [
    "<p>Number of warnings</p>"
   ]
  },
  {
   "cell_type": "code",
   "execution_count": 131,
   "id": "south-excellence",
   "metadata": {},
   "outputs": [
    {
     "name": "stdout",
     "output_type": "stream",
     "text": [
      "0\n"
     ]
    }
   ],
   "source": [
    "%%bash \n",
    "grep \"warning\" logfiles/logfile_1.txt | wc -l"
   ]
  },
  {
   "cell_type": "code",
   "execution_count": 132,
   "id": "powered-restoration",
   "metadata": {},
   "outputs": [
    {
     "name": "stdout",
     "output_type": "stream",
     "text": [
      "1190\n"
     ]
    }
   ],
   "source": [
    "%%bash \n",
    "grep \"Warning\" logfiles/logfile_1.txt | wc -l"
   ]
  },
  {
   "cell_type": "code",
   "execution_count": 133,
   "id": "polish-casino",
   "metadata": {},
   "outputs": [
    {
     "name": "stdout",
     "output_type": "stream",
     "text": [
      "1190\n"
     ]
    }
   ],
   "source": [
    "%%bash \n",
    "grep -i \"warning\" logfiles/logfile_1.txt | wc -l"
   ]
  },
  {
   "cell_type": "code",
   "execution_count": 134,
   "id": "respective-belly",
   "metadata": {},
   "outputs": [
    {
     "name": "stdout",
     "output_type": "stream",
     "text": [
      "accountsservice/bionic,now 0.6.45-1ubuntu1 amd64 [installed,automatic]\n",
      "acl/bionic,now 2.2.52-3build1 amd64 [installed,automatic]\n",
      "acpid/bionic,now 1:2.0.28-1ubuntu1 amd64 [installed,automatic]\n",
      "adduser/bionic,now 3.116ubuntu1 all [installed,automatic]\n",
      "apparmor/bionic-updates,bionic-security,now 2.12-4ubuntu5.1 amd64 [installed,automatic]\n"
     ]
    },
    {
     "name": "stderr",
     "output_type": "stream",
     "text": [
      "\n",
      "WARNING: apt does not have a stable CLI interface. Use with caution in scripts.\n",
      "\n"
     ]
    }
   ],
   "source": [
    "%%bash\n",
    "apt --installed list | grep automatic | head -n 5"
   ]
  },
  {
   "cell_type": "code",
   "execution_count": 135,
   "id": "monetary-chapel",
   "metadata": {},
   "outputs": [
    {
     "name": "stdout",
     "output_type": "stream",
     "text": [
      "Architecture:        x86_64\n"
     ]
    }
   ],
   "source": [
    "%%bash\n",
    "lscpu | grep Architecture "
   ]
  },
  {
   "cell_type": "code",
   "execution_count": 136,
   "id": "overhead-license",
   "metadata": {},
   "outputs": [],
   "source": [
    "# %%bash\n",
    "# ps aux | grep sshd | cut -f 1"
   ]
  },
  {
   "cell_type": "code",
   "execution_count": 137,
   "id": "corresponding-registration",
   "metadata": {},
   "outputs": [],
   "source": [
    "# %%bash\n",
    "# ip addr | grep inet | awk '{ print $2; }'"
   ]
  },
  {
   "cell_type": "markdown",
   "id": "devoted-minneapolis",
   "metadata": {},
   "source": [
    "#### Sed\n",
    "\n",
    "</p>\n",
    "The stream editor reads text from a stream or file and performs line-by-line operations.<br>\n",
    "The sed command is frequently used for string replacement with REGEX.\n",
    "</p>"
   ]
  },
  {
   "cell_type": "code",
   "execution_count": 138,
   "id": "rocky-thesis",
   "metadata": {},
   "outputs": [
    {
     "name": "stdout",
     "output_type": "stream",
     "text": [
      "The Big Bang Theory is an American television sitcom \n",
      "created by Chuck Lorre and Bill Prady, both of whom \n"
     ]
    }
   ],
   "source": [
    "%%bash\n",
    "sed \" \" backup/bigbang_theory.txt | head -n 2"
   ]
  },
  {
   "cell_type": "markdown",
   "id": "together-poetry",
   "metadata": {},
   "source": [
    "<p>\n",
    "Streaming text without printing with n, machting the string, and then printing it with p.<br>\n",
    "The forward slashes indicate the start and end of the regular expression.\n",
    "</p>"
   ]
  },
  {
   "cell_type": "markdown",
   "id": "external-browser",
   "metadata": {},
   "source": [
    "<p>Equivalent to head -n </p>"
   ]
  },
  {
   "cell_type": "code",
   "execution_count": 139,
   "id": "intense-sensitivity",
   "metadata": {},
   "outputs": [
    {
     "name": "stdout",
     "output_type": "stream",
     "text": [
      "The Big Bang Theory is an American television sitcom \n"
     ]
    }
   ],
   "source": [
    "%%bash\n",
    "sed -n '1p' backup/bigbang_theory.txt"
   ]
  },
  {
   "cell_type": "code",
   "execution_count": 140,
   "id": "material-holiday",
   "metadata": {},
   "outputs": [
    {
     "name": "stdout",
     "output_type": "stream",
     "text": [
      "astrophysicist Raj Koothrappali (Kunal Nayyar).[4][5] \n",
      "astrophysicist Raj Koothrappali (Kunal Nayyar).[4][5] \n",
      "astrophysicist Raj Koothrappali (Kunal Nayyar).[4][5] \n"
     ]
    }
   ],
   "source": [
    "%%bash\n",
    "sed -n \"/Koothrappali/p\" backup/*.txt"
   ]
  },
  {
   "cell_type": "markdown",
   "id": "pleased-provider",
   "metadata": {},
   "source": [
    "<p>Print ranges</p>"
   ]
  },
  {
   "cell_type": "code",
   "execution_count": 141,
   "id": "sealed-ecology",
   "metadata": {},
   "outputs": [
    {
     "name": "stdout",
     "output_type": "stream",
     "text": [
      "Rostenkowski (Melissa Rauch), and comic book store owner \n",
      "Stuart Bloom (Kevin Sussman).\n",
      "The show was filmed in front of a live audience, and \n",
      "produced by Warner Bros. Television and Chuck Lorre \n",
      "Productions. It received mixed reviews throughout its \n"
     ]
    }
   ],
   "source": [
    "%%bash\n",
    "sed -n '20,24p' backup/bigbang_theory.txt"
   ]
  },
  {
   "cell_type": "code",
   "execution_count": 142,
   "id": "usual-living",
   "metadata": {},
   "outputs": [],
   "source": [
    "%%bash\n",
    "sed 's/was/\\\"foo\\\"/g' backup/bigbang_theory.txt > backup/bigbang_foo.txt"
   ]
  },
  {
   "cell_type": "code",
   "execution_count": 143,
   "id": "applied-leave",
   "metadata": {},
   "outputs": [
    {
     "name": "stdout",
     "output_type": "stream",
     "text": [
      "The Big Bang Theory is an American television sitcom \n",
      "The show originally centered on five characters living \n",
      "The show was filmed in front of a live audience, and \n"
     ]
    }
   ],
   "source": [
    "%%bash\n",
    "sed -n -e '/^T[a-z]/p' backup/bigbang_theory.txt"
   ]
  },
  {
   "cell_type": "markdown",
   "id": "opening-ceramic",
   "metadata": {},
   "source": [
    "<p>Looking into logfiles.</p>"
   ]
  },
  {
   "cell_type": "code",
   "execution_count": 144,
   "id": "accompanied-treasure",
   "metadata": {},
   "outputs": [
    {
     "name": "stdout",
     "output_type": "stream",
     "text": [
      "4 17:08:58 -  -       Information: Time table running dialog created\n",
      "40 17:09:04 -  -       Information: Input Manager erstellen...\n",
      "41 17:09:04 -  -       Information: Tastaturbefehle laden...\n"
     ]
    }
   ],
   "source": [
    "%%bash \n",
    "sed -n -e '/^4/p' logfiles/logfile_1.txt | head -n 3"
   ]
  },
  {
   "cell_type": "markdown",
   "id": "outer-amazon",
   "metadata": {},
   "source": [
    "<p>Printing a random line.</p>"
   ]
  },
  {
   "cell_type": "code",
   "execution_count": 145,
   "id": "bigger-identification",
   "metadata": {},
   "outputs": [
    {
     "name": "stdout",
     "output_type": "stream",
     "text": [
      "The show was filmed in front of a live audience, and \n"
     ]
    }
   ],
   "source": [
    "%%bash\n",
    "sed -n \"$(( RANDOM % 100 ))p\" backup/bigbang_theory.txt"
   ]
  },
  {
   "cell_type": "code",
   "execution_count": 146,
   "id": "comprehensive-scientist",
   "metadata": {},
   "outputs": [
    {
     "name": "stdout",
     "output_type": "stream",
     "text": [
      "2 17:08:58 -  -       Information: Weather dialog created\n",
      "60 17:09:08 -  -       Information: Set Weather System vars...\n",
      "61 17:09:08 -  -       Information: Sky and Weather created\n",
      "108 17:09:13 -  -       Information: Weather loaded\n"
     ]
    }
   ],
   "source": [
    "%%bash\n",
    "sed -n \"/Weather/p\" logfiles/logfile_1.txt"
   ]
  },
  {
   "cell_type": "markdown",
   "id": "spectacular-metallic",
   "metadata": {},
   "source": [
    "#### Concat\n",
    "<p>strings.</p>"
   ]
  },
  {
   "cell_type": "code",
   "execution_count": 147,
   "id": "awful-sacrifice",
   "metadata": {},
   "outputs": [
    {
     "name": "stdout",
     "output_type": "stream",
     "text": [
      "text_3\n",
      "Verses from the poem: Take this kiss upon the brow! Is but a dream within a dream.\n",
      "\"Is but a dream within a dream.\" is a verse from the poem.\n",
      "The verse \"Is but a dream within a dream.\" means something.\n"
     ]
    }
   ],
   "source": [
    "%%bash\n",
    "text_1=\"Take this kiss upon the brow! \"\n",
    "text_2=\"Is but a dream within a dream.\"\n",
    "text_3=$text_1$text_2\n",
    "\n",
    "echo text_3\n",
    "echo \"Verses from the poem: $text_3\"\n",
    "echo \"\\\"${text_2}\\\" is a verse from the poem.\"\n",
    "echo \"The verse \\\"$text_2\\\" means something.\""
   ]
  },
  {
   "cell_type": "markdown",
   "id": "applicable-generator",
   "metadata": {},
   "source": [
    "Concatenating string in a list."
   ]
  },
  {
   "cell_type": "code",
   "execution_count": 148,
   "id": "patent-photographer",
   "metadata": {},
   "outputs": [
    {
     "name": "stdout",
     "output_type": "stream",
     "text": [
      " Earth, Venus, Mars, Jupyter, Saturn, Neptun \n"
     ]
    }
   ],
   "source": [
    "%%bash\n",
    "planets=\" \"\n",
    "for planet in 'Earth', 'Venus', 'Mars', 'Jupyter', 'Saturn', 'Neptun';do\n",
    "planets+=\"$planet \"\n",
    "done\n",
    "echo \"$planets\""
   ]
  },
  {
   "cell_type": "markdown",
   "id": "environmental-sugar",
   "metadata": {},
   "source": [
    "#### Counting the number of characters."
   ]
  },
  {
   "cell_type": "code",
   "execution_count": 149,
   "id": "speaking-guess",
   "metadata": {},
   "outputs": [
    {
     "name": "stdout",
     "output_type": "stream",
     "text": [
      "53\n",
      "The length of the string line is 53.\n",
      "53\n"
     ]
    }
   ],
   "source": [
    "%%bash\n",
    "cities=\"It  was the best of times, it was the worst of times.\"\n",
    "\n",
    "echo ${#cities}\n",
    "    \n",
    "len=`expr length \"$cities\"`\n",
    "echo \"The length of the string line is $len.\"\n",
    "    \n",
    "echo $cities | wc -c"
   ]
  },
  {
   "cell_type": "markdown",
   "id": "atlantic-prisoner",
   "metadata": {},
   "source": [
    "#### Comparing strings."
   ]
  },
  {
   "cell_type": "code",
   "execution_count": 150,
   "id": "normal-promise",
   "metadata": {},
   "outputs": [
    {
     "name": "stdout",
     "output_type": "stream",
     "text": [
      "Words are not the same.\n"
     ]
    }
   ],
   "source": [
    "%%bash\n",
    "word_1=\"raven\"\n",
    "word_2=\"dream\"\n",
    "if [ $word_1 == $word_2 ]; then\n",
    "    echo=\"Words are the same.\"\n",
    "else\n",
    "    echo \"Words are not the same.\"\n",
    "fi"
   ]
  },
  {
   "cell_type": "markdown",
   "id": "descending-incident",
   "metadata": {},
   "source": [
    "#### String arrays\n",
    "<p>are created with - read -a strarr.<br>\n",
    "The Internal Field Separator (IFS) is used to split the lines into words.</p>"
   ]
  },
  {
   "cell_type": "code",
   "execution_count": 151,
   "id": "finished-routine",
   "metadata": {},
   "outputs": [
    {
     "name": "stdout",
     "output_type": "stream",
     "text": [
      "There are 12 words in the introduction lines of the book.\n",
      "It\n",
      "was\n",
      "the\n",
      "best\n",
      "of\n",
      "times,\n",
      "it\n",
      "was\n",
      "the\n",
      "worst\n",
      "of\n",
      "times.\n"
     ]
    }
   ],
   "source": [
    "%%bash\n",
    "\n",
    "cities=\"It  was the best of times, it was the worst of times.\"\n",
    "IFS=' '\n",
    "read -a strarr <<< \"$cities\"\n",
    "\n",
    "echo \"There are ${#strarr[*]} words in the introduction lines of the book.\"\n",
    "\n",
    "for val in \"${strarr[@]}\";\n",
    "do\n",
    "  printf \"$val\\n\"\n",
    "done"
   ]
  },
  {
   "cell_type": "markdown",
   "id": "offensive-identity",
   "metadata": {},
   "source": [
    "#### History"
   ]
  },
  {
   "cell_type": "code",
   "execution_count": 152,
   "id": "lightweight-summit",
   "metadata": {},
   "outputs": [],
   "source": [
    "# !help \"history /?\""
   ]
  },
  {
   "cell_type": "code",
   "execution_count": 153,
   "id": "standing-session",
   "metadata": {},
   "outputs": [],
   "source": [
    "# This produces the total history. It is long.\n",
    "# history"
   ]
  },
  {
   "cell_type": "code",
   "execution_count": 154,
   "id": "prompt-orange",
   "metadata": {},
   "outputs": [
    {
     "name": "stdout",
     "output_type": "stream",
     "text": [
      "!If Exist \"textfiles\" (echo Already Exists) else (echo Doesn’t exist)\n"
     ]
    }
   ],
   "source": [
    "history 20"
   ]
  },
  {
   "cell_type": "code",
   "execution_count": 155,
   "id": "serious-conducting",
   "metadata": {},
   "outputs": [],
   "source": [
    "%%bash\n",
    "history | head -n 3"
   ]
  },
  {
   "cell_type": "code",
   "execution_count": 156,
   "id": "honey-botswana",
   "metadata": {},
   "outputs": [],
   "source": [
    "# %%bash\n",
    "# history | grep \"cd\""
   ]
  },
  {
   "cell_type": "markdown",
   "id": "catholic-zealand",
   "metadata": {},
   "source": [
    "#### Creating Shell variables."
   ]
  },
  {
   "cell_type": "code",
   "execution_count": 157,
   "id": "victorian-conservation",
   "metadata": {},
   "outputs": [],
   "source": [
    "sum_1 = 1000 + 100"
   ]
  },
  {
   "cell_type": "markdown",
   "id": "silver-subsection",
   "metadata": {},
   "source": [
    "Printing the value of a variable with $."
   ]
  },
  {
   "cell_type": "code",
   "execution_count": 158,
   "id": "talented-timer",
   "metadata": {},
   "outputs": [
    {
     "name": "stdout",
     "output_type": "stream",
     "text": [
      "1100\n"
     ]
    }
   ],
   "source": [
    "!echo $sum_1"
   ]
  },
  {
   "cell_type": "code",
   "execution_count": 159,
   "id": "excess-samba",
   "metadata": {},
   "outputs": [
    {
     "name": "stdout",
     "output_type": "stream",
     "text": [
      "sum_1\n"
     ]
    }
   ],
   "source": [
    "!echo sum_1"
   ]
  },
  {
   "cell_type": "code",
   "execution_count": 160,
   "id": "numeric-membrane",
   "metadata": {},
   "outputs": [
    {
     "name": "stdout",
     "output_type": "stream",
     "text": [
      "csv_files/historical_projections.csv\n"
     ]
    }
   ],
   "source": [
    "historical_projections=\"csv_files/historical_projections.csv\"\n",
    "!echo $historical_projections"
   ]
  },
  {
   "cell_type": "code",
   "execution_count": 161,
   "id": "ideal-academy",
   "metadata": {},
   "outputs": [
    {
     "name": "stdout",
     "output_type": "stream",
     "text": [
      "Player,Position,ID,Draft Year,Projected SPM,Superstar,Starter,Role Player,Bust\n"
     ]
    }
   ],
   "source": [
    "!head -n 1 $historical_projections"
   ]
  },
  {
   "cell_type": "code",
   "execution_count": 162,
   "id": "upset-rider",
   "metadata": {},
   "outputs": [
    {
     "name": "stdout",
     "output_type": "stream",
     "text": [
      "Hello Tom Sawyer, welcome to the circus!\n"
     ]
    }
   ],
   "source": [
    "name='Tom Sawyer'\n",
    "!echo Hello $name, welcome to the circus!"
   ]
  },
  {
   "cell_type": "markdown",
   "id": "dutch-cycle",
   "metadata": {},
   "source": [
    "#### The date-variable.\n",
    "<p>The date variable is a sub program.<br>\n",
    "Back ticks are opening the shell within a shell construct.</p>\n"
   ]
  },
  {
   "cell_type": "code",
   "execution_count": 163,
   "id": "enabling-reproduction",
   "metadata": {},
   "outputs": [
    {
     "name": "stdout",
     "output_type": "stream",
     "text": [
      "Thu Jul 29 13:04:49 CEST 2021\n"
     ]
    }
   ],
   "source": [
    "%%bash\n",
    "echo `date`"
   ]
  },
  {
   "cell_type": "code",
   "execution_count": 164,
   "id": "gentle-deadline",
   "metadata": {},
   "outputs": [
    {
     "name": "stdout",
     "output_type": "stream",
     "text": [
      "It it is the beautiful day of Thu Jul 29 13:04:49 CEST 2021\n"
     ]
    }
   ],
   "source": [
    "%%bash\n",
    "echo \"It it is the beautiful day of `date`\""
   ]
  },
  {
   "cell_type": "markdown",
   "id": "linear-delay",
   "metadata": {},
   "source": [
    "#### Numeric variables\n",
    "<p>Numeric variables are not native to Bash as it is mostly used for text.<br>\n",
    "    Those are executed by calling the sub program \"expr\".<br>\n",
    "    Expr cannot handle decimal places.\n",
    "</p>"
   ]
  },
  {
   "cell_type": "code",
   "execution_count": 165,
   "id": "brazilian-gospel",
   "metadata": {},
   "outputs": [
    {
     "name": "stdout",
     "output_type": "stream",
     "text": [
      "6\n"
     ]
    }
   ],
   "source": [
    "%%bash\n",
    "expr 1 + 5\n"
   ]
  },
  {
   "cell_type": "markdown",
   "id": "instant-colombia",
   "metadata": {},
   "source": [
    "<p>The caculator bc can handle decimal places.</p>"
   ]
  },
  {
   "cell_type": "code",
   "execution_count": 166,
   "id": "treated-monster",
   "metadata": {},
   "outputs": [
    {
     "name": "stdout",
     "output_type": "stream",
     "text": [
      "12.5\n",
      "70.63636\n"
     ]
    }
   ],
   "source": [
    "%%bash\n",
    "echo \"5 + 7.5\" | bc\n",
    "# This determines the number of decimal places\n",
    "echo \"scale=5; 777/11\" | bc"
   ]
  },
  {
   "cell_type": "code",
   "execution_count": 167,
   "id": "southeast-singles",
   "metadata": {},
   "outputs": [
    {
     "name": "stdout",
     "output_type": "stream",
     "text": [
      "137\n"
     ]
    }
   ],
   "source": [
    "%%bash\n",
    "expr $((4+133))"
   ]
  },
  {
   "cell_type": "markdown",
   "id": "junior-quantum",
   "metadata": {},
   "source": [
    "<p>The $(echo \"number_1 * number_2\") is opening also a shell within a shell.</p>"
   ]
  },
  {
   "cell_type": "code",
   "execution_count": 168,
   "id": "hired-democracy",
   "metadata": {},
   "outputs": [
    {
     "name": "stdout",
     "output_type": "stream",
     "text": [
      "4681.05\n"
     ]
    }
   ],
   "source": [
    "%%bash\n",
    "number_1=998.23\n",
    "number_2=562.12\n",
    "\n",
    "echo \"$(echo \"($number_1 + $number_2) * 3\" | bc)\""
   ]
  },
  {
   "cell_type": "markdown",
   "id": "prime-illinois",
   "metadata": {},
   "source": [
    "#### seq\n",
    "<p>is iterating over sequence of numbers.</p>"
   ]
  },
  {
   "cell_type": "code",
   "execution_count": 241,
   "id": "stopped-victoria",
   "metadata": {},
   "outputs": [
    {
     "name": "stdout",
     "output_type": "stream",
     "text": [
      "1\n",
      "2\n",
      "3\n",
      "4\n",
      "5\n",
      "6\n",
      "7\n",
      "8\n"
     ]
    }
   ],
   "source": [
    "%%bash\n",
    "seq 8"
   ]
  },
  {
   "cell_type": "markdown",
   "id": "completed-expert",
   "metadata": {},
   "source": [
    "<p>Padding numbers</p>"
   ]
  },
  {
   "cell_type": "code",
   "execution_count": 244,
   "id": "lyric-geography",
   "metadata": {},
   "outputs": [
    {
     "name": "stdout",
     "output_type": "stream",
     "text": [
      "01\n",
      "02\n",
      "03\n",
      "04\n",
      "05\n",
      "06\n",
      "07\n",
      "08\n",
      "09\n",
      "10\n",
      "11\n"
     ]
    }
   ],
   "source": [
    "\n",
    "%%bash\n",
    "seq -w 11"
   ]
  },
  {
   "cell_type": "code",
   "execution_count": 254,
   "id": "promising-latex",
   "metadata": {},
   "outputs": [
    {
     "name": "stdout",
     "output_type": "stream",
     "text": [
      "01\n",
      "02\n",
      "03\n",
      "04\n",
      "05\n",
      "06\n",
      "07\n",
      "08\n",
      "09\n",
      "10\n",
      "11\n",
      "12\n"
     ]
    }
   ],
   "source": [
    "%%bash\n",
    "seq -w 01 11"
   ]
  },
  {
   "cell_type": "markdown",
   "id": "executive-kazakhstan",
   "metadata": {},
   "source": [
    "<p>Printing a range between two numbers</p>"
   ]
  },
  {
   "cell_type": "code",
   "execution_count": 245,
   "id": "electoral-senior",
   "metadata": {},
   "outputs": [
    {
     "name": "stdout",
     "output_type": "stream",
     "text": [
      "4\n",
      "5\n",
      "6\n",
      "7\n",
      "8\n",
      "9\n"
     ]
    }
   ],
   "source": [
    "%%bash\n",
    "seq 4 8"
   ]
  },
  {
   "cell_type": "markdown",
   "id": "conceptual-humanitarian",
   "metadata": {},
   "source": [
    "<p>Incrementing.</p>"
   ]
  },
  {
   "cell_type": "code",
   "execution_count": 247,
   "id": "handmade-intersection",
   "metadata": {},
   "outputs": [
    {
     "name": "stdout",
     "output_type": "stream",
     "text": [
      "11\n",
      "13\n",
      "15\n",
      "17\n",
      "19\n",
      "21\n",
      "23\n"
     ]
    }
   ],
   "source": [
    "%%bash\n",
    "seq 11 2 23"
   ]
  },
  {
   "cell_type": "markdown",
   "id": "afraid-pickup",
   "metadata": {},
   "source": [
    "<p>Decrementing</p>"
   ]
  },
  {
   "cell_type": "code",
   "execution_count": 251,
   "id": "underlying-english",
   "metadata": {},
   "outputs": [
    {
     "name": "stdout",
     "output_type": "stream",
     "text": [
      "23\n",
      "20\n",
      "17\n",
      "14\n",
      "11\n",
      "8\n"
     ]
    }
   ],
   "source": [
    "%%bash\n",
    "seq 23 -3 8"
   ]
  },
  {
   "cell_type": "markdown",
   "id": "informal-clothing",
   "metadata": {},
   "source": [
    "<p>Printing with separators</p>"
   ]
  },
  {
   "cell_type": "code",
   "execution_count": 257,
   "id": "involved-double",
   "metadata": {},
   "outputs": [
    {
     "name": "stdout",
     "output_type": "stream",
     "text": [
      "1-2-3-4-5-6-7-8\n"
     ]
    }
   ],
   "source": [
    "%%bash\n",
    "seq -s - 8"
   ]
  },
  {
   "cell_type": "markdown",
   "id": "acute-tackle",
   "metadata": {},
   "source": [
    "<p>Creating a sequence, while others remain constant.</p>"
   ]
  },
  {
   "cell_type": "code",
   "execution_count": 263,
   "id": "sixth-panel",
   "metadata": {},
   "outputs": [
    {
     "name": "stdout",
     "output_type": "stream",
     "text": [
      "1/09/1919\n",
      "2/09/1919\n",
      "3/09/1919\n",
      "4/09/1919\n",
      "5/09/1919\n"
     ]
    }
   ],
   "source": [
    "%%bash\n",
    "seq -f \"%g/09/1919\" 5"
   ]
  },
  {
   "cell_type": "markdown",
   "id": "adjusted-newport",
   "metadata": {},
   "source": [
    "### Exploring shell variables."
   ]
  },
  {
   "cell_type": "code",
   "execution_count": 169,
   "id": "breathing-neighborhood",
   "metadata": {},
   "outputs": [
    {
     "name": "stdout",
     "output_type": "stream",
     "text": [
      "declare -- BASH=\"/bin/bash\"\n",
      "declare -r BASHOPTS=\"cmdhist:complete_fullquote:extquote:force_fignore:hostcomplete:interactive_comments:login_shell:progcomp:promptvars:sourcepath\"\n"
     ]
    }
   ],
   "source": [
    "%%bash\n",
    "declare -p | head -n 2"
   ]
  },
  {
   "cell_type": "code",
   "execution_count": 170,
   "id": "designed-reach",
   "metadata": {},
   "outputs": [
    {
     "name": "stdout",
     "output_type": "stream",
     "text": [
      "declare -x HOME=\"/home/gamarador426\"\n",
      "declare -x HOSTTYPE=\"x86_64\"\n",
      "declare -x LANG=\"C.UTF-8\"\n"
     ]
    }
   ],
   "source": [
    "%%bash\n",
    "export | head -n 3"
   ]
  },
  {
   "cell_type": "markdown",
   "id": "reported-protocol",
   "metadata": {},
   "source": [
    "#### If-Else-Statements\n",
    "\n",
    "<p>It is important to keep the necessary spaces like here: [ $value -lt 1000 ]</p>"
   ]
  },
  {
   "cell_type": "code",
   "execution_count": 277,
   "id": "excess-biology",
   "metadata": {},
   "outputs": [
    {
     "name": "stdout",
     "output_type": "stream",
     "text": [
      "The value is less than 1000\n"
     ]
    }
   ],
   "source": [
    "%%bash\n",
    "value=999\n",
    "if [ $value -lt 1000 ]\n",
    "then\n",
    "echo \"The value is less than 1000\"\n",
    "else\n",
    "echo \"The value is 1000 or more.\"\n",
    "fi"
   ]
  },
  {
   "cell_type": "markdown",
   "id": "labeled-marker",
   "metadata": {},
   "source": [
    "<p>AND / && statement</p>"
   ]
  },
  {
   "cell_type": "code",
   "execution_count": 278,
   "id": "timely-species",
   "metadata": {},
   "outputs": [
    {
     "name": "stdout",
     "output_type": "stream",
     "text": [
      "The value is between 100 and 130.\n"
     ]
    }
   ],
   "source": [
    "%%bash\n",
    "value=123\n",
    "if [ $value -ge 100 ] && [ $value -le 130 ]\n",
    "then\n",
    "echo \"The value is between 100 and 130.\"\n",
    "fi"
   ]
  },
  {
   "cell_type": "code",
   "execution_count": 288,
   "id": "suitable-firmware",
   "metadata": {},
   "outputs": [
    {
     "name": "stdout",
     "output_type": "stream",
     "text": [
      "The value is between 120 and 130.\n"
     ]
    }
   ],
   "source": [
    "%%bash\n",
    "\n",
    "value=129\n",
    "\n",
    "if [ $value -ge 100 ] && [ $value -le 110 ]\n",
    "then\n",
    "echo \"The value is between 100 and 110.\"\n",
    "\n",
    "elif [ $value -gt 110 ] && [ $value -le 120 ]\n",
    "then\n",
    "echo \"The value is between 100 and 120.\"\n",
    "\n",
    "elif [ $value -gt 120 ] && [ $value -le 130 ]\n",
    "then\n",
    "echo  \"The value is between 120 and 130.\"\n",
    "\n",
    "\n",
    "else\n",
    "echo \"The value is not in the range between 100 and 130.\"\n",
    "\n",
    "fi"
   ]
  },
  {
   "cell_type": "code",
   "execution_count": 291,
   "id": "alien-observer",
   "metadata": {},
   "outputs": [
    {
     "name": "stdout",
     "output_type": "stream",
     "text": [
      "The condition is true.\n"
     ]
    }
   ],
   "source": [
    "%%bash\n",
    "value=8\n",
    "if [ $value -le 5 ] || [ $value == 8 ];\n",
    "then\n",
    "echo \"The condition is true.\"\n",
    "else\n",
    "echo \"The condition is not true.\"\n",
    "fi"
   ]
  },
  {
   "cell_type": "markdown",
   "id": "moving-house",
   "metadata": {},
   "source": [
    "#### Bash For Loops \n",
    "\n",
    "<p>\n",
    "As explained above the %%bash the cell magic works only in this notebook, if Bash is started from\n",
    "a Bash prompt. In this case Gitbash. Otherwise %%bash throws the CalledProcessError. \n",
    "</p>"
   ]
  },
  {
   "cell_type": "code",
   "execution_count": 171,
   "id": "strategic-hormone",
   "metadata": {},
   "outputs": [
    {
     "name": "stdout",
     "output_type": "stream",
     "text": [
      "1\n",
      "2\n",
      "3\n",
      "4\n",
      "5\n"
     ]
    }
   ],
   "source": [
    "for n in [1,2,3,4,5]:\n",
    "    print(n)"
   ]
  },
  {
   "cell_type": "code",
   "execution_count": 172,
   "id": "driven-textbook",
   "metadata": {},
   "outputs": [
    {
     "name": "stdout",
     "output_type": "stream",
     "text": [
      "gif\n",
      "jpg\n",
      "png\n"
     ]
    }
   ],
   "source": [
    "%%bash \n",
    "for i in gif jpg png; do echo $i; done"
   ]
  },
  {
   "cell_type": "code",
   "execution_count": 173,
   "id": "considered-evanescence",
   "metadata": {},
   "outputs": [
    {
     "name": "stdout",
     "output_type": "stream",
     "text": [
      "Number 1\n",
      "Number 2\n",
      "Number 3\n",
      "Number 4\n",
      "Number 5\n"
     ]
    }
   ],
   "source": [
    "%%bash\n",
    "for n in {1..5}\n",
    "do echo \"Number $n\"\n",
    "done"
   ]
  },
  {
   "cell_type": "code",
   "execution_count": 174,
   "id": "elect-attribute",
   "metadata": {},
   "outputs": [
    {
     "name": "stdout",
     "output_type": "stream",
     "text": [
      "1\n",
      "2\n",
      "3\n"
     ]
    }
   ],
   "source": [
    "%%bash\n",
    "for i in 1 2 3; \n",
    "do\n",
    "echo $i\n",
    "done"
   ]
  },
  {
   "cell_type": "code",
   "execution_count": 175,
   "id": "french-reading",
   "metadata": {},
   "outputs": [
    {
     "name": "stdout",
     "output_type": "stream",
     "text": [
      "apple\n",
      "pear\n",
      "banana\n"
     ]
    }
   ],
   "source": [
    "%%bash\n",
    "for number in apple pear banana; do echo $number; done; exit 0"
   ]
  },
  {
   "cell_type": "code",
   "execution_count": 176,
   "id": "comfortable-creek",
   "metadata": {},
   "outputs": [
    {
     "name": "stdout",
     "output_type": "stream",
     "text": [
      "1\n",
      "2\n",
      "3\n",
      "4\n",
      "5\n"
     ]
    }
   ],
   "source": [
    "%%bash\n",
    "for number in 1 2 3 4 5\n",
    "do\n",
    "echo $number\n",
    "done\n",
    "exit 0\n"
   ]
  },
  {
   "cell_type": "code",
   "execution_count": 177,
   "id": "thorough-senior",
   "metadata": {},
   "outputs": [
    {
     "name": "stdout",
     "output_type": "stream",
     "text": [
      "backup/bigbang_foo.txt backup/bigbang_foo_delete.txt backup/bigbang_theory.txt backup/dickens_copperfield.txt backup/poe_dreams.txt backup/poe_raven.txt backup/tolstoi_tale_two_cities.txt\n"
     ]
    }
   ],
   "source": [
    "%%bash\n",
    "for filename in \"backup/*.txt\"; do echo $filename; done"
   ]
  },
  {
   "cell_type": "code",
   "execution_count": 178,
   "id": "soviet-backup",
   "metadata": {},
   "outputs": [
    {
     "name": "stdout",
     "output_type": "stream",
     "text": [
      "backup/bigbang_foo.txt\n",
      "backup/bigbang_foo_delete.txt\n",
      "backup/bigbang_theory.txt\n",
      "backup/dickens_copperfield.txt\n",
      "backup/poe_dreams.txt\n",
      "backup/poe_raven.txt\n",
      "backup/tolstoi_tale_two_cities.txt\n"
     ]
    }
   ],
   "source": [
    "%%bash\n",
    "files_1=backup/*.txt\n",
    "for name in $files_1; do echo $name; done"
   ]
  },
  {
   "cell_type": "markdown",
   "id": "comfortable-friendship",
   "metadata": {},
   "source": [
    "Looping through text files and printing the head of every file."
   ]
  },
  {
   "cell_type": "code",
   "execution_count": 179,
   "id": "continental-sheriff",
   "metadata": {},
   "outputs": [
    {
     "name": "stdout",
     "output_type": "stream",
     "text": [
      "==> backup/bigbang_foo.txt <==\n",
      "The Big Bang Theory is an American television sitcom \n",
      "created by Chuck Lorre and Bill Prady, both of whom \n",
      "\n",
      "==> backup/bigbang_foo_delete.txt <==\n",
      "The Big Bang Theory is an American television sitcom \n",
      "created by Chuck Lorre and Bill Prady, both of whom \n",
      "\n",
      "==> backup/bigbang_theory.txt <==\n",
      "The Big Bang Theory is an American television sitcom \n",
      "created by Chuck Lorre and Bill Prady, both of whom \n",
      "\n",
      "==> backup/dickens_copperfield.txt <==\n",
      "David Copperfield by Charles Dickens\n",
      "Preface to the Charles Dickens editionI remarked in the original \n",
      "\n",
      "==> backup/poe_dreams.txt <==\n",
      "Take this kiss upon the brow!\n",
      "And, in parting from you now,\n",
      "\n",
      "==> backup/poe_raven.txt <==\n",
      "Once upon a \n",
      "midnight \n",
      "\n",
      "==> backup/tolstoi_tale_two_cities.txt <==\n",
      "A Tale of Two Cities\n",
      "By Charles Dickens\n"
     ]
    }
   ],
   "source": [
    "%%bash\n",
    "for i in \"backup/*.txt\"; do head -n 2 $i; done"
   ]
  },
  {
   "cell_type": "code",
   "execution_count": 180,
   "id": "manual-bhutan",
   "metadata": {},
   "outputs": [
    {
     "name": "stdout",
     "output_type": "stream",
     "text": [
      "Fruit item number-1 = Apple\n",
      "Fruit item number-2 = Banana\n",
      "Fruit item number-3 = Orange\n",
      "Fruit item number-4 = Pear\n"
     ]
    }
   ],
   "source": [
    "%%bash\n",
    "fruit_list=\"Apple Banana Orange Pear\"\n",
    "\n",
    "# Initiate a counter\n",
    "i=1\n",
    "for fruit in $fruit_list;\n",
    "do \n",
    "echo \"Fruit item number-$i = $fruit\"\n",
    "# Update counter\n",
    "((i=$i+1))\n",
    "done"
   ]
  },
  {
   "cell_type": "markdown",
   "id": "average-damages",
   "metadata": {},
   "source": [
    "<p>Comma separated values with internal field separator.</p>"
   ]
  },
  {
   "cell_type": "code",
   "execution_count": 181,
   "id": "deadly-outreach",
   "metadata": {},
   "outputs": [
    {
     "name": "stdout",
     "output_type": "stream",
     "text": [
      "apple banana orange pear grapes tangerine mango papaya plum\n"
     ]
    }
   ],
   "source": [
    "%%bash\n",
    "fruit_list=\"apple banana orange pear grapes tangerine mango papaya plum\"\n",
    "\n",
    "# Declaring an internal field separator\n",
    "Field_Separator=$IFS\n",
    "IFS=,\n",
    "for item in $fruit_list;\n",
    "do\n",
    "echo $item\n",
    "done"
   ]
  },
  {
   "cell_type": "markdown",
   "id": "basic-bridal",
   "metadata": {},
   "source": [
    "<p>\n",
    "Printing values consisting of two or more words.\n",
    "</p>"
   ]
  },
  {
   "cell_type": "code",
   "execution_count": 182,
   "id": "detected-smart",
   "metadata": {},
   "outputs": [
    {
     "name": "stdout",
     "output_type": "stream",
     "text": [
      "Item 1 is of type apple fruit.\n",
      "Item 2 is of type pineapple fruit.\n",
      "Item 3 is of type cucumber veg.\n",
      "Item 4 is of type pear fruit.\n",
      "Item 5 is of type cabbage veg.\n"
     ]
    }
   ],
   "source": [
    "%%bash\n",
    "declare -a StringArray=(\"apple fruit\" \"pineapple fruit\" \"cucumber veg\" \"pear fruit\" \"cabbage veg\")\n",
    "\n",
    "i=1\n",
    "for item in \"${StringArray[@]}\"; do\n",
    "    echo \"Item $i is of type $item.\"\n",
    "    ((i=$i+1))\n",
    "done"
   ]
  },
  {
   "cell_type": "code",
   "execution_count": 183,
   "id": "suspended-elements",
   "metadata": {},
   "outputs": [
    {
     "name": "stdout",
     "output_type": "stream",
     "text": [
      "There are different types of crops in the list: apple fruit pineapple fruit cucumber veg pear fruit cabbage veg\n"
     ]
    }
   ],
   "source": [
    "%%bash\n",
    "declare -a StringArray=(\"apple fruit\" \"pineapple fruit\" \"cucumber veg\" \"pear fruit\" \"cabbage veg\")\n",
    "\n",
    "for crop in \"${StringArray[*]}\"\n",
    "do\n",
    "echo \"There are different types of crops in the list: $crop\"\n",
    "done"
   ]
  },
  {
   "cell_type": "markdown",
   "id": "acceptable-juice",
   "metadata": {},
   "source": [
    "<p>If-else-statements</p>"
   ]
  },
  {
   "cell_type": "code",
   "execution_count": 184,
   "id": "loose-scanning",
   "metadata": {},
   "outputs": [
    {
     "name": "stdout",
     "output_type": "stream",
     "text": [
      "It is an apple. Hurrah!\n"
     ]
    }
   ],
   "source": [
    "%%bash\n",
    "fruit='apple'\n",
    "\n",
    "if [ $fruit == 'apple' ]\n",
    "then \n",
    "    echo \"It is an apple. Hurrah!\"\n",
    "else\n",
    "    echo \"It is not an apple.\"\n",
    "fi"
   ]
  },
  {
   "cell_type": "markdown",
   "id": "direct-qualification",
   "metadata": {},
   "source": [
    "<p>If-else statements in for loops.</p>"
   ]
  },
  {
   "cell_type": "code",
   "execution_count": 185,
   "id": "drawn-bikini",
   "metadata": {},
   "outputs": [
    {
     "name": "stdout",
     "output_type": "stream",
     "text": [
      "apple\n",
      "banana\n",
      "orange\n",
      "pear\n"
     ]
    }
   ],
   "source": [
    "%%bash\n",
    "fruit_list=\"apple banana orange pear\"\n",
    "\n",
    "for item in $fruit_list; do\n",
    "    echo $item\n",
    "done"
   ]
  },
  {
   "cell_type": "code",
   "execution_count": 186,
   "id": "geological-novelty",
   "metadata": {},
   "outputs": [
    {
     "name": "stdout",
     "output_type": "stream",
     "text": [
      "It is an apple. Hurrah!\n",
      "Unfortunately it is not an apple.\n",
      "Unfortunately it is not an apple.\n",
      "Unfortunately it is not an apple.\n",
      "Unfortunately it is not an apple.\n",
      "Unfortunately it is not an apple.\n",
      "Unfortunately it is not an apple.\n",
      "Unfortunately it is not an apple.\n",
      "Unfortunately it is not an apple.\n"
     ]
    }
   ],
   "source": [
    "%%bash\n",
    "fruit_list=\"apple banana orange pear grapes tangerine mango papaya plum\"\n",
    "\n",
    "for fruit in $fruit_list;\n",
    "do\n",
    "if [ $fruit == 'apple' ]\n",
    "then\n",
    "echo \"It is an apple. Hurrah!\"\n",
    "else\n",
    "echo \"Unfortunately it is not an apple.\"\n",
    "fi\n",
    "done"
   ]
  },
  {
   "cell_type": "markdown",
   "id": "breeding-charter",
   "metadata": {},
   "source": [
    "<p>The break statement prints else clause till condition and then stops the loop.</p>"
   ]
  },
  {
   "cell_type": "code",
   "execution_count": 187,
   "id": "atlantic-generation",
   "metadata": {},
   "outputs": [
    {
     "name": "stdout",
     "output_type": "stream",
     "text": [
      "The given color is green and not violet.\n",
      "The given color is yellow and not violet.\n",
      "The given color is orange and not violet.\n",
      "The given color is lighgreen and not violet.\n",
      "The given color is green-red and not violet.\n",
      "The given color is orange and not violet.\n",
      "The given color is yellow and not violet.\n",
      "The color of plum is violet.\n"
     ]
    }
   ],
   "source": [
    "%%bash\n",
    "fruit_list=\"apple banana orange pear grapes tangerine mango plum papaya\"\n",
    "fruit_colors=\"green yellow orange lighgreen green-red orange yellow violet green\"\n",
    "\n",
    "for fruit in $fruit_list;\n",
    "do\n",
    "if [ $fruit == 'plum' ]\n",
    "then\n",
    "for color in $fruit_colors;\n",
    "do\n",
    "if [ $color == 'violet' ]\n",
    "then\n",
    "echo \"The color of $fruit is $color.\"\n",
    "break\n",
    "else\n",
    "echo \"The given color is $color and not violet.\"\n",
    "fi\n",
    "done\n",
    "fi\n",
    "done"
   ]
  },
  {
   "cell_type": "code",
   "execution_count": 188,
   "id": "subtle-clinton",
   "metadata": {},
   "outputs": [],
   "source": [
    "# %%bash\n",
    "# pwd"
   ]
  },
  {
   "cell_type": "markdown",
   "id": "interim-encoding",
   "metadata": {},
   "source": [
    "<p>Accessing files in a directory with a for loop.</p>"
   ]
  },
  {
   "cell_type": "code",
   "execution_count": 189,
   "id": "according-compensation",
   "metadata": {},
   "outputs": [
    {
     "name": "stdout",
     "output_type": "stream",
     "text": [
      "Txt file 1 is poetry/poe_dreams.txt\n",
      "Txt file 2 is poetry/poe_eldorado.txt\n",
      "Txt file 3 is poetry/poe_raven.txt\n",
      "Txt file 4 is poetry/poe_raven_forged.txt\n"
     ]
    }
   ],
   "source": [
    "%%bash\n",
    "txt_n=1\n",
    "for txtname in `ls poetry/*.txt`;\n",
    "do \n",
    "echo \"Txt file $txt_n is $txtname\"\n",
    "((txt_n=$txt_n+1))\n",
    "done"
   ]
  },
  {
   "cell_type": "code",
   "execution_count": 190,
   "id": "soviet-florist",
   "metadata": {},
   "outputs": [
    {
     "name": "stdout",
     "output_type": "stream",
     "text": [
      "Take this kiss upon the brow!\n",
      "And, in parting from you now,\n",
      " Gaily bedight,\n",
      "A gallant knight,\n",
      "Once upon a \n",
      "midnight \n",
      "Once upon a \n",
      "morning \n"
     ]
    }
   ],
   "source": [
    "%%bash\n",
    "for line in `ls poetry/*.txt`;\n",
    "do \n",
    "cat $line | head -n 2\n",
    "done"
   ]
  },
  {
   "cell_type": "code",
   "execution_count": 191,
   "id": "regional-eagle",
   "metadata": {},
   "outputs": [
    {
     "name": "stdout",
     "output_type": "stream",
     "text": [
      "oak\n",
      "\n",
      "palm\n",
      "\n",
      "spruce\n",
      "\n"
     ]
    }
   ],
   "source": [
    "%%bash\n",
    "trees=\"textfiles/trees.txt\"\n",
    "trees_lines=$(cat $trees)\n",
    "for line in $trees_lines;\n",
    "do\n",
    "echo \"$line\"\n",
    "done"
   ]
  },
  {
   "cell_type": "code",
   "execution_count": 192,
   "id": "complicated-weekend",
   "metadata": {},
   "outputs": [
    {
     "name": "stdout",
     "output_type": "stream",
     "text": [
      "Bash_Kernel_JupyterNotebook.ipynb\t__pycache__\tbackup\tconfig.path\tconfig.py\tcsv_files\tfruits\thistory\tlogfiles\tloop.sh\tnovels\tpoetry\tremove.ipynb\tsh\ttemp\ttextfiles\ttree_storage\t"
     ]
    }
   ],
   "source": [
    "%%bash\n",
    "for files_folders in *;\n",
    "do\n",
    "printf \"$files_folders\\t\"\n",
    "done"
   ]
  },
  {
   "cell_type": "markdown",
   "id": "pressing-buyer",
   "metadata": {},
   "source": [
    "<p>For loo over a range {n..n+i}</p>"
   ]
  },
  {
   "cell_type": "code",
   "execution_count": 268,
   "id": "accomplished-shopper",
   "metadata": {},
   "outputs": [
    {
     "name": "stdout",
     "output_type": "stream",
     "text": [
      "11 times 11 is 121\n",
      "12 times 12 is 144\n",
      "13 times 13 is 169\n",
      "14 times 14 is 196\n",
      "15 times 15 is 225\n",
      "16 times 16 is 256\n",
      "17 times 17 is 289\n",
      "18 times 18 is 324\n",
      "19 times 19 is 361\n",
      "20 times 20 is 400\n",
      "21 times 21 is 441\n"
     ]
    }
   ],
   "source": [
    "%%bash\n",
    "for i in {11..21};\n",
    "do\n",
    "((output=$i * $i))\n",
    "echo $i times $i is $output\n",
    "done"
   ]
  },
  {
   "cell_type": "markdown",
   "id": "radical-catering",
   "metadata": {},
   "source": [
    "<p>Incrementing over a range</p>"
   ]
  },
  {
   "cell_type": "code",
   "execution_count": 270,
   "id": "bibliographic-mustang",
   "metadata": {},
   "outputs": [
    {
     "name": "stdout",
     "output_type": "stream",
     "text": [
      "19\n",
      "21\n",
      "23\n",
      "25\n",
      "27\n",
      "29\n",
      "31\n"
     ]
    }
   ],
   "source": [
    "%%bash\n",
    "for n in {19..31..2};\n",
    "do \n",
    "echo $n\n",
    "done"
   ]
  },
  {
   "cell_type": "markdown",
   "id": "lyric-transport",
   "metadata": {},
   "source": [
    "#### Bash While Loops "
   ]
  },
  {
   "cell_type": "code",
   "execution_count": 193,
   "id": "brief-locator",
   "metadata": {},
   "outputs": [
    {
     "name": "stdout",
     "output_type": "stream",
     "text": [
      "1000\n",
      "1001\n",
      "1002\n",
      "1003\n",
      "1004\n",
      "1005\n"
     ]
    }
   ],
   "source": [
    "%%bash\n",
    "n=1000\n",
    "\n",
    "while [ $n -le 1005 ]\n",
    "do\n",
    "echo $n\n",
    "((n++))\n",
    "done"
   ]
  },
  {
   "cell_type": "markdown",
   "id": "southern-threat",
   "metadata": {},
   "source": [
    "#### Bash scripting\n",
    "\n",
    "<p>\n",
    "Bash files are storing Bash commands.<br>\n",
    "The bash commands are executed with Bash are called Bash scripts.</b>\n",
    "</p>"
   ]
  },
  {
   "cell_type": "code",
   "execution_count": 194,
   "id": "communist-brown",
   "metadata": {},
   "outputs": [],
   "source": [
    "%%bash\n",
    "head -n 3 backup/*.txt > backup/headlines.sh\n"
   ]
  },
  {
   "cell_type": "code",
   "execution_count": 195,
   "id": "generic-village",
   "metadata": {},
   "outputs": [
    {
     "name": "stdout",
     "output_type": "stream",
     "text": [
      "==> backup/bigbang_foo.txt <==\n",
      "The Big Bang Theory is an American television sitcom \n",
      "created by Chuck Lorre and Bill Prady, both of whom \n",
      "served as executive producers on the series, along with \n",
      "\n"
     ]
    }
   ],
   "source": [
    "%%bash\n",
    "cat backup/headlines.sh | head -n 5"
   ]
  },
  {
   "cell_type": "code",
   "execution_count": 196,
   "id": "geographic-consumer",
   "metadata": {},
   "outputs": [
    {
     "name": "stdout",
     "output_type": "stream",
     "text": [
      "Tyler Honeycutt,yes\n",
      "Tyshawn Taylor,yes\n",
      "Vernon Macklin,yes\n",
      "Vitor Faverani,yes\n",
      "Willie Warren,yes"
     ]
    }
   ],
   "source": [
    "%%bash\n",
    "cat csv_files/nba-tattoos-data.csv | tail -n 5"
   ]
  },
  {
   "cell_type": "markdown",
   "id": "forced-heart",
   "metadata": {},
   "source": [
    "<p>Simulating groupby.<p>"
   ]
  },
  {
   "cell_type": "code",
   "execution_count": 197,
   "id": "funky-fifty",
   "metadata": {},
   "outputs": [
    {
     "name": "stdout",
     "output_type": "stream",
     "text": [
      "637\n"
     ]
    }
   ],
   "source": [
    "%%bash\n",
    "cat csv_files/nba-tattoos-data.csv | wc -l"
   ]
  },
  {
   "cell_type": "code",
   "execution_count": 198,
   "id": "organic-refrigerator",
   "metadata": {},
   "outputs": [
    {
     "name": "stdout",
     "output_type": "stream",
     "text": [
      "289\n"
     ]
    }
   ],
   "source": [
    "%%bash \n",
    "cat csv_files/nba-tattoos-data.csv | cut -d, -f 2 | grep -o \"no\" | wc -l"
   ]
  },
  {
   "cell_type": "code",
   "execution_count": 199,
   "id": "aggressive-carpet",
   "metadata": {},
   "outputs": [
    {
     "name": "stdout",
     "output_type": "stream",
     "text": [
      "349\n"
     ]
    }
   ],
   "source": [
    "%%bash \n",
    "cat csv_files/nba-tattoos-data.csv | cut -d, -f 2 | grep -o \"yes\" | wc -l"
   ]
  },
  {
   "cell_type": "code",
   "execution_count": 200,
   "id": "guilty-struggle",
   "metadata": {},
   "outputs": [
    {
     "data": {
      "text/plain": [
       "637"
      ]
     },
     "execution_count": 200,
     "metadata": {},
     "output_type": "execute_result"
    }
   ],
   "source": [
    "# minus header\n",
    "289 + 349 - 1"
   ]
  },
  {
   "cell_type": "code",
   "execution_count": 201,
   "id": "oriental-victorian",
   "metadata": {},
   "outputs": [
    {
     "name": "stdout",
     "output_type": "stream",
     "text": [
      "cat $@| wc -l\n",
      "cat $@|cut -d, -f 2 | grep -o no | wc -l\n",
      "cat $@|cut -d, -f 2 | grep -o yes | wc -l\n"
     ]
    }
   ],
   "source": [
    "%%bash\n",
    "cat sh/count_tattoos.bash "
   ]
  },
  {
   "cell_type": "code",
   "execution_count": 202,
   "id": "literary-complaint",
   "metadata": {},
   "outputs": [
    {
     "name": "stdout",
     "output_type": "stream",
     "text": [
      "637\n",
      "289\n",
      "349\n"
     ]
    }
   ],
   "source": [
    "%%bash\n",
    "sh/count_tattoos.bash csv_files/nba-tattoos-data.csv"
   ]
  },
  {
   "cell_type": "markdown",
   "id": "assigned-original",
   "metadata": {},
   "source": [
    "<p> The place holder \\$@ is escaped for echoing it into a file.</p>"
   ]
  },
  {
   "cell_type": "code",
   "execution_count": 203,
   "id": "christian-integer",
   "metadata": {},
   "outputs": [],
   "source": [
    "%%bash \n",
    "echo \"cat \\$@| wc -l\" > sh/count_tattoos_2.bash \n",
    "echo \"cat \\$@|cut -d, -f 2 | grep -o no | wc -l\" >> sh/count_tattoos_2.bash \n",
    "echo \"cat \\$@|cut -d, -f 2 | grep -o yes | wc -l\" >> sh/count_tattoos_2.bash "
   ]
  },
  {
   "cell_type": "markdown",
   "id": "appointed-retro",
   "metadata": {},
   "source": [
    "<p>\n",
    "Executing a Bash script with shell variables.<br>\n",
    "The \"\\$@\" prints all arguments.<br>\n",
    "The sign \"$#\" counts the number of arguments\n",
    "</p>"
   ]
  },
  {
   "cell_type": "code",
   "execution_count": 204,
   "id": "viral-eight",
   "metadata": {},
   "outputs": [
    {
     "name": "stdout",
     "output_type": "stream",
     "text": [
      "cat\n",
      "dog\n",
      "cat dog lion\n",
      "3\n"
     ]
    }
   ],
   "source": [
    "%%bash\n",
    "echo \"echo \\$1\" > sh/animals.bash\n",
    "echo \"echo \\$2\" >> sh/animals.bash\n",
    "echo \"echo \\$@\" >> sh/animals.bash\n",
    "echo \"echo \\$#\" >> sh/animals.bash\n",
    "\n",
    "sh/animals.bash cat dog lion"
   ]
  },
  {
   "cell_type": "markdown",
   "id": "modular-gateway",
   "metadata": {},
   "source": [
    "#### Storing bash commands in bash files\n",
    "<p>\n",
    "The bash file was created with notepad ++ .<br>\n",
    "Then the bash file was executed and the output stored in a text file.<br>\n",
    "The text file is opened then with \"cat\".\n",
    "</p>\n"
   ]
  },
  {
   "cell_type": "code",
   "execution_count": 205,
   "id": "guided-surfing",
   "metadata": {},
   "outputs": [
    {
     "name": "stdout",
     "output_type": "stream",
     "text": [
      "cut -d , -f 1 csv_files/nba_historic/*.csv | grep -v Date | sort | uniq"
     ]
    }
   ],
   "source": [
    "%%bash\n",
    "cat sh/bash_1.bash"
   ]
  },
  {
   "cell_type": "code",
   "execution_count": 206,
   "id": "corresponding-jackson",
   "metadata": {},
   "outputs": [],
   "source": [
    "%%bash\n",
    "sh/bash_1.bash > sh/output/output_1.txt\n"
   ]
  },
  {
   "cell_type": "code",
   "execution_count": 207,
   "id": "welcome-field",
   "metadata": {},
   "outputs": [
    {
     "name": "stdout",
     "output_type": "stream",
     "text": [
      "Aaron White\n",
      "Brad Wanamaker\n",
      "Branden Dawson\n",
      "Chandler Parsons\n",
      "Chris Singleton\n"
     ]
    }
   ],
   "source": [
    "%%bash\n",
    "head -n 5 sh/output/output_1.txt"
   ]
  },
  {
   "cell_type": "markdown",
   "id": "going-headline",
   "metadata": {},
   "source": [
    "#### Forging \"The Raven\" of E.A. Poe"
   ]
  },
  {
   "cell_type": "code",
   "execution_count": 208,
   "id": "engaging-clarity",
   "metadata": {},
   "outputs": [
    {
     "name": "stdout",
     "output_type": "stream",
     "text": [
      "Once upon a \n",
      "midnight \n",
      "dreary, while \n"
     ]
    }
   ],
   "source": [
    "%%bash\n",
    "sed '3q' poetry/poe_raven.txt"
   ]
  },
  {
   "cell_type": "code",
   "execution_count": 209,
   "id": "stretch-silly",
   "metadata": {},
   "outputs": [],
   "source": [
    "%%bash\n",
    "sed '' poetry/poe_raven.txt | sed 's/midnight/morning/g' | sed 's/dreary/beautiful/g' | sed 's/December/July/g' | sed 's/angels/devils/g' | sed 's/Raven/nightingale/g' > poetry/poe_raven_forged.txt"
   ]
  },
  {
   "cell_type": "code",
   "execution_count": 210,
   "id": "stretch-ownership",
   "metadata": {},
   "outputs": [
    {
     "name": "stdout",
     "output_type": "stream",
     "text": [
      "Once upon a \n",
      "morning \n",
      "beautiful, while \n"
     ]
    }
   ],
   "source": [
    "%%bash\n",
    "sed '3q' poetry/poe_raven_forged.txt"
   ]
  },
  {
   "cell_type": "code",
   "execution_count": 211,
   "id": "adjacent-adapter",
   "metadata": {},
   "outputs": [],
   "source": [
    "# %%bash\n",
    "# cat poetry/poe_raven.txt"
   ]
  },
  {
   "cell_type": "markdown",
   "id": "fitted-relation",
   "metadata": {},
   "source": [
    "#### Using a file place holder\n",
    "<p>\n",
    "allows the creation of generic scripts applicable to any file.<br>\n",
    "The \"$@\" is a place holder for any file.<br>\n",
    "It gives the commands stored in the script to any file, when bash is executed.<br>\n",
    "The script below counts the lines of the file it is applied on.\n",
    "</p>"
   ]
  },
  {
   "cell_type": "code",
   "execution_count": 212,
   "id": "general-equality",
   "metadata": {},
   "outputs": [],
   "source": [
    "%%bash\n",
    "wc -l $@  > sh/linecount_1.txt"
   ]
  },
  {
   "cell_type": "code",
   "execution_count": 213,
   "id": "maritime-techno",
   "metadata": {},
   "outputs": [
    {
     "name": "stdout",
     "output_type": "stream",
     "text": [
      "0\n"
     ]
    }
   ],
   "source": [
    "%%bash\n",
    "cat sh/linecount_1.txt"
   ]
  },
  {
   "cell_type": "code",
   "execution_count": 214,
   "id": "progressive-danger",
   "metadata": {},
   "outputs": [],
   "source": [
    "%%bash\n",
    "sh/linecount.bash csv_files/nba_historic/*.csv > sh/output/linecounts_nba.out"
   ]
  },
  {
   "cell_type": "code",
   "execution_count": 215,
   "id": "particular-sitting",
   "metadata": {},
   "outputs": [
    {
     "name": "stdout",
     "output_type": "stream",
     "text": [
      "  11 csv_files/nba_historic/nba_historic_1.csv\n",
      "  18 csv_files/nba_historic/nba_historic_2.csv\n",
      "  25 csv_files/nba_historic/nba_historic_3.csv\n",
      "  54 total\n"
     ]
    }
   ],
   "source": [
    "%%bash\n",
    "cat sh/output/linecounts_nba.out"
   ]
  },
  {
   "cell_type": "code",
   "execution_count": 216,
   "id": "associate-scanning",
   "metadata": {},
   "outputs": [],
   "source": [
    "%%bash\n",
    "echo cut -d, -f 1,2,3 $@ > sh/extract_1.sh"
   ]
  },
  {
   "cell_type": "code",
   "execution_count": 217,
   "id": "sacred-creature",
   "metadata": {},
   "outputs": [
    {
     "name": "stdout",
     "output_type": "stream",
     "text": [
      "cut -d, -f 1,2,3\n"
     ]
    }
   ],
   "source": [
    "%%bash\n",
    "cat sh/extract_1.sh"
   ]
  },
  {
   "cell_type": "code",
   "execution_count": 218,
   "id": "measured-river",
   "metadata": {},
   "outputs": [],
   "source": [
    "%%bash\n",
    "sh/extract.bash csv_files/nba_historic/*.csv > sh/output/nba_extracted.out"
   ]
  },
  {
   "cell_type": "code",
   "execution_count": 219,
   "id": "formed-baghdad",
   "metadata": {},
   "outputs": [
    {
     "name": "stdout",
     "output_type": "stream",
     "text": [
      "54 sh/output/nba_extracted.out\n"
     ]
    }
   ],
   "source": [
    "%%bash\n",
    "wc -l sh/output/nba_extracted.out"
   ]
  },
  {
   "cell_type": "code",
   "execution_count": 220,
   "id": "scheduled-council",
   "metadata": {},
   "outputs": [
    {
     "name": "stdout",
     "output_type": "stream",
     "text": [
      "Player,Position,ID\n",
      "Karl-Anthony Towns,C,karl-anthony-towns\n",
      "Justise Winslow,SF,justise-winslow\n",
      "Stanley Johnson,SF,stanley-johnson\n"
     ]
    }
   ],
   "source": [
    "!cat sh/output/nba_extracted.out | head -n 4"
   ]
  },
  {
   "cell_type": "code",
   "execution_count": 221,
   "id": "consecutive-company",
   "metadata": {},
   "outputs": [
    {
     "name": "stdout",
     "output_type": "stream",
     "text": [
      "Player,Position\n",
      "Karl-Anthony Towns,C\n",
      "Justise Winslow,SF\n"
     ]
    }
   ],
   "source": [
    "%%bash\n",
    "cut -d, -f 1,2 csv_files/historical_projections.csv | head -n 3"
   ]
  },
  {
   "cell_type": "markdown",
   "id": "worth-variety",
   "metadata": {},
   "source": [
    "The two commands counting the lines \n",
    "and words in the files. "
   ]
  },
  {
   "cell_type": "code",
   "execution_count": 222,
   "id": "satellite-bhutan",
   "metadata": {},
   "outputs": [
    {
     "name": "stdout",
     "output_type": "stream",
     "text": [
      "wc -l $@; wc -w $@"
     ]
    }
   ],
   "source": [
    "%%bash\n",
    "cat sh/two_commands.bash"
   ]
  },
  {
   "cell_type": "code",
   "execution_count": 223,
   "id": "going-stadium",
   "metadata": {},
   "outputs": [
    {
     "name": "stdout",
     "output_type": "stream",
     "text": [
      "  11 csv_files/nba_historic/nba_historic_1.csv\n",
      "  18 csv_files/nba_historic/nba_historic_2.csv\n",
      "  25 csv_files/nba_historic/nba_historic_3.csv\n",
      "  54 total\n",
      "  24 csv_files/nba_historic/nba_historic_1.csv\n",
      "  38 csv_files/nba_historic/nba_historic_2.csv\n",
      "  52 csv_files/nba_historic/nba_historic_3.csv\n",
      " 114 total\n"
     ]
    }
   ],
   "source": [
    "%%bash\n",
    "sh/two_commands.bash csv_files/nba_historic/*.csv "
   ]
  },
  {
   "cell_type": "markdown",
   "id": "complete-north",
   "metadata": {},
   "source": [
    "<p>This loop grabs the head and from the head grep lines with \"is\"</p>"
   ]
  },
  {
   "cell_type": "code",
   "execution_count": 224,
   "id": "proprietary-syracuse",
   "metadata": {},
   "outputs": [
    {
     "name": "stdout",
     "output_type": "stream",
     "text": [
      "Karl-Anthony Towns,C,karl-anthony-towns,2015,1.030605703,0.134766667,0.427183333,0.163083333,0.274966667\n",
      "Justise Winslow,SF,justise-winslow,2015,0.875328997,0.083528571,0.510904762,0.176766667,0.2288\n",
      "Rondae Hollis-Jefferson,SF,rondae-hollis-jefferson,2015,0.311909198,0.014589784,0.368533143,0.392480667,0.224396406\n",
      "Chris Walker,PF,5-chris-walker,2015,-0.75113066,0.001166667,0.157566667,0.353433333,0.487833333\n",
      "Chris Walker,PF,5-chris-walker,2015,-0.75113066,0.001166667,0.157566667,0.353433333,0.487833333\n",
      "Rakeem Christmas,PF,rakeem-christmas,2015,-1.037407078,0.000103674,0.074800607,0.399359049,0.52573667\n",
      "Nikola Vucevic,C,nikola-vucevic,2011,-0.242777929,0.002209827,0.265809316,0.38034645,0.351634407\n",
      "Markieff Morris,PF,markieff-morris,2011,-0.522158069,0.004485966,0.166648312,0.470599272,0.35826645\n",
      "Marcus Morris,PF,marcus-morris,2011,-0.59167767,0.00085145,0.168420785,0.439121032,0.391606733\n",
      "Chris Singleton,SF,chris-singleton,2011,-0.692153663,0.004260992,0.157669833,0.358535633,0.479533542\n",
      "Travis Leslie,SG,travis-leslie,2011,-0.813201236,0.00462668,0.112001726,0.401183835,0.482187759\n"
     ]
    }
   ],
   "source": [
    "%%bash\n",
    "for filename in csv_files/nba_historic/*.csv\n",
    "do\n",
    "    head -n 2 $filename | tail -n 1\n",
    "    grep \"is\" $filename\n",
    "done"
   ]
  },
  {
   "cell_type": "code",
   "execution_count": 225,
   "id": "beautiful-replication",
   "metadata": {},
   "outputs": [
    {
     "name": "stdout",
     "output_type": "stream",
     "text": [
      "for filename in $@; do head -n 2 $filename | tail -n 1; done\n",
      "for filename in $@; do grep \"is\" $filename; done"
     ]
    }
   ],
   "source": [
    "%%bash \n",
    "cat sh/loop_head_grep.bash"
   ]
  },
  {
   "cell_type": "markdown",
   "id": "express-wrestling",
   "metadata": {},
   "source": [
    "#### Error\n",
    "\n",
    "<p>\n",
    "The first code create the \"'\\r': command not found\" error.<br>\n",
    "The error was caused by windows editors using \"\\r\" for breaking the line.<br>\n",
    "Linux is using \"\\n\". It had nothing to do with the code.\n",
    "</p>\n",
    "\n",
    "<p>\n",
    "Notepad ++ is offering to change the line breaks explicitly:\n",
    "</p>\n",
    "\n",
    "<p>\n",
    "\"Its End of Line(EOL) conversion issue when script is written in windows<br>\n",
    "using some editors like notepad, notepad++(tested).<br>\n",
    "...<br>\n",
    "Notepad++ has an option to convert END OF LINE CONVERSION(EOL). <br>\n",
    "How to do that: go to Edit > EOL Conversion > select Unix/OSX \"\n",
    "</p>\n",
    "\n",
    "<p>\n",
    "<a href=\"https://stackoverflow.com/questions/18608380/r-command-not-found\" target=\"_blank\">Stack</a> \n",
    "</p>"
   ]
  },
  {
   "cell_type": "code",
   "execution_count": 226,
   "id": "distant-salad",
   "metadata": {
    "tags": []
   },
   "outputs": [],
   "source": [
    "%%bash\n",
    "sh/loop_head_grep.bash csv_files/nba_historic/*.csv > sh/output/loop_head_grep.output"
   ]
  },
  {
   "cell_type": "code",
   "execution_count": 227,
   "id": "corresponding-collective",
   "metadata": {},
   "outputs": [
    {
     "name": "stdout",
     "output_type": "stream",
     "text": [
      "Karl-Anthony Towns,C,karl-anthony-towns,2015,1.030605703,0.134766667,0.427183333,0.163083333,0.274966667\n",
      "Chris Walker,PF,5-chris-walker,2015,-0.75113066,0.001166667,0.157566667,0.353433333,0.487833333\n",
      "Nikola Vucevic,C,nikola-vucevic,2011,-0.242777929,0.002209827,0.265809316,0.38034645,0.351634407\n",
      "Justise Winslow,SF,justise-winslow,2015,0.875328997,0.083528571,0.510904762,0.176766667,0.2288\n"
     ]
    }
   ],
   "source": [
    "%%bash\n",
    "cat sh/output/loop_head_grep.output | head -n 4"
   ]
  },
  {
   "cell_type": "code",
   "execution_count": 228,
   "id": "gentle-villa",
   "metadata": {},
   "outputs": [
    {
     "name": "stdout",
     "output_type": "stream",
     "text": [
      "11 sh/output/loop_count_2.output\n"
     ]
    }
   ],
   "source": [
    "%%bash\n",
    "wc -l sh/output/loop_count_2.output"
   ]
  },
  {
   "cell_type": "markdown",
   "id": "nasty-stephen",
   "metadata": {},
   "source": [
    "<p>All lines returned including \"is\".</p>"
   ]
  },
  {
   "cell_type": "code",
   "execution_count": 229,
   "id": "canadian-state",
   "metadata": {},
   "outputs": [
    {
     "name": "stdout",
     "output_type": "stream",
     "text": [
      "is\n",
      "is\n",
      "is\n"
     ]
    }
   ],
   "source": [
    "%%bash\n",
    "grep -o \"is\" sh/output/loop_head_grep.output | head -n 3"
   ]
  },
  {
   "cell_type": "markdown",
   "id": "statewide-london",
   "metadata": {},
   "source": [
    "#### Bash functions"
   ]
  },
  {
   "cell_type": "code",
   "execution_count": 230,
   "id": "special-newsletter",
   "metadata": {},
   "outputs": [
    {
     "name": "stdout",
     "output_type": "stream",
     "text": [
      "The brand of the car is called Ford.\n"
     ]
    }
   ],
   "source": [
    "%%bash\n",
    "car_brand() {\n",
    "  local brand=\"$1\"\n",
    "  echo \"The brand of the car is called $brand.\"\n",
    "}\n",
    "car_brand \"Ford\""
   ]
  },
  {
   "cell_type": "markdown",
   "id": "thorough-account",
   "metadata": {},
   "source": [
    "<p>Taking two arguments</p>"
   ]
  },
  {
   "cell_type": "code",
   "execution_count": 231,
   "id": "allied-programming",
   "metadata": {},
   "outputs": [
    {
     "name": "stdout",
     "output_type": "stream",
     "text": [
      "Superman rescues Louis Lane.\n"
     ]
    }
   ],
   "source": [
    "%%bash\n",
    "superhero_rescues(){\n",
    "    echo \"$1 rescues $2.\"\n",
    "}\n",
    "superhero_rescues \"Superman\" \"Louis Lane\""
   ]
  },
  {
   "cell_type": "code",
   "execution_count": 232,
   "id": "proud-guest",
   "metadata": {},
   "outputs": [
    {
     "name": "stdout",
     "output_type": "stream",
     "text": [
      "The quotient of 10 and S2 is: 5\n"
     ]
    }
   ],
   "source": [
    "%%bash\n",
    "quotient(){\n",
    "    subtract=$(($1 - $2))\n",
    "    echo \"The quotient of $1 and S2 is: $subtract\"\n",
    "}\n",
    "quotient 10 5"
   ]
  },
  {
   "cell_type": "code",
   "execution_count": 233,
   "id": "ambient-allowance",
   "metadata": {},
   "outputs": [
    {
     "name": "stdout",
     "output_type": "stream",
     "text": [
      "598\n"
     ]
    }
   ],
   "source": [
    "%%bash\n",
    "replace(){\n",
    "    cat $1 | wc -l\n",
    "}\n",
    "replace \"poetry/poe_raven.txt\" "
   ]
  },
  {
   "cell_type": "code",
   "execution_count": 234,
   "id": "asian-surfing",
   "metadata": {},
   "outputs": [
    {
     "name": "stdout",
     "output_type": "stream",
     "text": [
      "dreary, while \n",
      "weak and weary,\n"
     ]
    }
   ],
   "source": [
    "%%bash\n",
    "find(){\n",
    "    cat $1 | grep -e $2 -e $3\n",
    "}\n",
    "find \"poetry/poe_raven.txt\" \"dreary\" \"weary\""
   ]
  },
  {
   "cell_type": "code",
   "execution_count": 235,
   "id": "incoming-cradle",
   "metadata": {},
   "outputs": [
    {
     "name": "stdout",
     "output_type": "stream",
     "text": [
      "Once upon a \n",
      "midnight \n",
      "dreary, while \n",
      "I pondered, \n",
      "weak and weary,\n"
     ]
    }
   ],
   "source": [
    "%%bash\n",
    "cat \"poetry/poe_raven.txt\"  | head -n 5"
   ]
  },
  {
   "cell_type": "code",
   "execution_count": 236,
   "id": "selective-acceptance",
   "metadata": {},
   "outputs": [
    {
     "name": "stdout",
     "output_type": "stream",
     "text": [
      "hello, world\n"
     ]
    }
   ],
   "source": [
    "%%bash\n",
    "hello_world () {\n",
    "   echo 'hello, world'\n",
    "}\n",
    "hello_world"
   ]
  },
  {
   "cell_type": "code",
   "execution_count": 237,
   "id": "educated-candle",
   "metadata": {},
   "outputs": [],
   "source": [
    "%%bash\n",
    "echo \"hello_world () {\" > sh/hello_world_2.bash\n",
    "echo echo 'hello, world' >> sh/hello_world_2.bash\n",
    "echo } >> sh/hello_world_2.bash\n",
    "echo hello_world >> sh/hello_world_2.bash"
   ]
  },
  {
   "cell_type": "code",
   "execution_count": 238,
   "id": "chronic-norman",
   "metadata": {},
   "outputs": [
    {
     "name": "stdout",
     "output_type": "stream",
     "text": [
      "hello, world\n"
     ]
    }
   ],
   "source": [
    "%%bash\n",
    "./sh/hello_world_3.txt"
   ]
  },
  {
   "cell_type": "code",
   "execution_count": 239,
   "id": "supported-camera",
   "metadata": {},
   "outputs": [
    {
     "name": "stderr",
     "output_type": "stream",
     "text": [
      "/bin/bash: line 1: ./hello_world.bash: No such file or directory\n"
     ]
    },
    {
     "ename": "CalledProcessError",
     "evalue": "Command 'b'./hello_world.bash\\n'' returned non-zero exit status 127.",
     "output_type": "error",
     "traceback": [
      "\u001b[1;31m---------------------------------------------------------------------------\u001b[0m",
      "\u001b[1;31mCalledProcessError\u001b[0m                        Traceback (most recent call last)",
      "\u001b[1;32mC:\\Users\\GAMARA~1\\AppData\\Local\\Temp/ipykernel_1928/893908594.py\u001b[0m in \u001b[0;36m<module>\u001b[1;34m\u001b[0m\n\u001b[1;32m----> 1\u001b[1;33m \u001b[0mget_ipython\u001b[0m\u001b[1;33m(\u001b[0m\u001b[1;33m)\u001b[0m\u001b[1;33m.\u001b[0m\u001b[0mrun_cell_magic\u001b[0m\u001b[1;33m(\u001b[0m\u001b[1;34m'bash'\u001b[0m\u001b[1;33m,\u001b[0m \u001b[1;34m''\u001b[0m\u001b[1;33m,\u001b[0m \u001b[1;34m'./hello_world.bash\\n'\u001b[0m\u001b[1;33m)\u001b[0m\u001b[1;33m\u001b[0m\u001b[1;33m\u001b[0m\u001b[0m\n\u001b[0m",
      "\u001b[1;32m~\\Anaconda3\\envs\\bash\\lib\\site-packages\\IPython\\core\\interactiveshell.py\u001b[0m in \u001b[0;36mrun_cell_magic\u001b[1;34m(self, magic_name, line, cell)\u001b[0m\n\u001b[0;32m   2401\u001b[0m             \u001b[1;32mwith\u001b[0m \u001b[0mself\u001b[0m\u001b[1;33m.\u001b[0m\u001b[0mbuiltin_trap\u001b[0m\u001b[1;33m:\u001b[0m\u001b[1;33m\u001b[0m\u001b[1;33m\u001b[0m\u001b[0m\n\u001b[0;32m   2402\u001b[0m                 \u001b[0margs\u001b[0m \u001b[1;33m=\u001b[0m \u001b[1;33m(\u001b[0m\u001b[0mmagic_arg_s\u001b[0m\u001b[1;33m,\u001b[0m \u001b[0mcell\u001b[0m\u001b[1;33m)\u001b[0m\u001b[1;33m\u001b[0m\u001b[1;33m\u001b[0m\u001b[0m\n\u001b[1;32m-> 2403\u001b[1;33m                 \u001b[0mresult\u001b[0m \u001b[1;33m=\u001b[0m \u001b[0mfn\u001b[0m\u001b[1;33m(\u001b[0m\u001b[1;33m*\u001b[0m\u001b[0margs\u001b[0m\u001b[1;33m,\u001b[0m \u001b[1;33m**\u001b[0m\u001b[0mkwargs\u001b[0m\u001b[1;33m)\u001b[0m\u001b[1;33m\u001b[0m\u001b[1;33m\u001b[0m\u001b[0m\n\u001b[0m\u001b[0;32m   2404\u001b[0m             \u001b[1;32mreturn\u001b[0m \u001b[0mresult\u001b[0m\u001b[1;33m\u001b[0m\u001b[1;33m\u001b[0m\u001b[0m\n\u001b[0;32m   2405\u001b[0m \u001b[1;33m\u001b[0m\u001b[0m\n",
      "\u001b[1;32m~\\Anaconda3\\envs\\bash\\lib\\site-packages\\IPython\\core\\magics\\script.py\u001b[0m in \u001b[0;36mnamed_script_magic\u001b[1;34m(line, cell)\u001b[0m\n\u001b[0;32m    140\u001b[0m             \u001b[1;32melse\u001b[0m\u001b[1;33m:\u001b[0m\u001b[1;33m\u001b[0m\u001b[1;33m\u001b[0m\u001b[0m\n\u001b[0;32m    141\u001b[0m                 \u001b[0mline\u001b[0m \u001b[1;33m=\u001b[0m \u001b[0mscript\u001b[0m\u001b[1;33m\u001b[0m\u001b[1;33m\u001b[0m\u001b[0m\n\u001b[1;32m--> 142\u001b[1;33m             \u001b[1;32mreturn\u001b[0m \u001b[0mself\u001b[0m\u001b[1;33m.\u001b[0m\u001b[0mshebang\u001b[0m\u001b[1;33m(\u001b[0m\u001b[0mline\u001b[0m\u001b[1;33m,\u001b[0m \u001b[0mcell\u001b[0m\u001b[1;33m)\u001b[0m\u001b[1;33m\u001b[0m\u001b[1;33m\u001b[0m\u001b[0m\n\u001b[0m\u001b[0;32m    143\u001b[0m \u001b[1;33m\u001b[0m\u001b[0m\n\u001b[0;32m    144\u001b[0m         \u001b[1;31m# write a basic docstring:\u001b[0m\u001b[1;33m\u001b[0m\u001b[1;33m\u001b[0m\u001b[1;33m\u001b[0m\u001b[0m\n",
      "\u001b[1;32m~\\Anaconda3\\envs\\bash\\lib\\site-packages\\decorator.py\u001b[0m in \u001b[0;36mfun\u001b[1;34m(*args, **kw)\u001b[0m\n\u001b[0;32m    230\u001b[0m             \u001b[1;32mif\u001b[0m \u001b[1;32mnot\u001b[0m \u001b[0mkwsyntax\u001b[0m\u001b[1;33m:\u001b[0m\u001b[1;33m\u001b[0m\u001b[1;33m\u001b[0m\u001b[0m\n\u001b[0;32m    231\u001b[0m                 \u001b[0margs\u001b[0m\u001b[1;33m,\u001b[0m \u001b[0mkw\u001b[0m \u001b[1;33m=\u001b[0m \u001b[0mfix\u001b[0m\u001b[1;33m(\u001b[0m\u001b[0margs\u001b[0m\u001b[1;33m,\u001b[0m \u001b[0mkw\u001b[0m\u001b[1;33m,\u001b[0m \u001b[0msig\u001b[0m\u001b[1;33m)\u001b[0m\u001b[1;33m\u001b[0m\u001b[1;33m\u001b[0m\u001b[0m\n\u001b[1;32m--> 232\u001b[1;33m             \u001b[1;32mreturn\u001b[0m \u001b[0mcaller\u001b[0m\u001b[1;33m(\u001b[0m\u001b[0mfunc\u001b[0m\u001b[1;33m,\u001b[0m \u001b[1;33m*\u001b[0m\u001b[1;33m(\u001b[0m\u001b[0mextras\u001b[0m \u001b[1;33m+\u001b[0m \u001b[0margs\u001b[0m\u001b[1;33m)\u001b[0m\u001b[1;33m,\u001b[0m \u001b[1;33m**\u001b[0m\u001b[0mkw\u001b[0m\u001b[1;33m)\u001b[0m\u001b[1;33m\u001b[0m\u001b[1;33m\u001b[0m\u001b[0m\n\u001b[0m\u001b[0;32m    233\u001b[0m     \u001b[0mfun\u001b[0m\u001b[1;33m.\u001b[0m\u001b[0m__name__\u001b[0m \u001b[1;33m=\u001b[0m \u001b[0mfunc\u001b[0m\u001b[1;33m.\u001b[0m\u001b[0m__name__\u001b[0m\u001b[1;33m\u001b[0m\u001b[1;33m\u001b[0m\u001b[0m\n\u001b[0;32m    234\u001b[0m     \u001b[0mfun\u001b[0m\u001b[1;33m.\u001b[0m\u001b[0m__doc__\u001b[0m \u001b[1;33m=\u001b[0m \u001b[0mfunc\u001b[0m\u001b[1;33m.\u001b[0m\u001b[0m__doc__\u001b[0m\u001b[1;33m\u001b[0m\u001b[1;33m\u001b[0m\u001b[0m\n",
      "\u001b[1;32m~\\Anaconda3\\envs\\bash\\lib\\site-packages\\IPython\\core\\magic.py\u001b[0m in \u001b[0;36m<lambda>\u001b[1;34m(f, *a, **k)\u001b[0m\n\u001b[0;32m    185\u001b[0m     \u001b[1;31m# but it's overkill for just that one bit of state.\u001b[0m\u001b[1;33m\u001b[0m\u001b[1;33m\u001b[0m\u001b[1;33m\u001b[0m\u001b[0m\n\u001b[0;32m    186\u001b[0m     \u001b[1;32mdef\u001b[0m \u001b[0mmagic_deco\u001b[0m\u001b[1;33m(\u001b[0m\u001b[0marg\u001b[0m\u001b[1;33m)\u001b[0m\u001b[1;33m:\u001b[0m\u001b[1;33m\u001b[0m\u001b[1;33m\u001b[0m\u001b[0m\n\u001b[1;32m--> 187\u001b[1;33m         \u001b[0mcall\u001b[0m \u001b[1;33m=\u001b[0m \u001b[1;32mlambda\u001b[0m \u001b[0mf\u001b[0m\u001b[1;33m,\u001b[0m \u001b[1;33m*\u001b[0m\u001b[0ma\u001b[0m\u001b[1;33m,\u001b[0m \u001b[1;33m**\u001b[0m\u001b[0mk\u001b[0m\u001b[1;33m:\u001b[0m \u001b[0mf\u001b[0m\u001b[1;33m(\u001b[0m\u001b[1;33m*\u001b[0m\u001b[0ma\u001b[0m\u001b[1;33m,\u001b[0m \u001b[1;33m**\u001b[0m\u001b[0mk\u001b[0m\u001b[1;33m)\u001b[0m\u001b[1;33m\u001b[0m\u001b[1;33m\u001b[0m\u001b[0m\n\u001b[0m\u001b[0;32m    188\u001b[0m \u001b[1;33m\u001b[0m\u001b[0m\n\u001b[0;32m    189\u001b[0m         \u001b[1;32mif\u001b[0m \u001b[0mcallable\u001b[0m\u001b[1;33m(\u001b[0m\u001b[0marg\u001b[0m\u001b[1;33m)\u001b[0m\u001b[1;33m:\u001b[0m\u001b[1;33m\u001b[0m\u001b[1;33m\u001b[0m\u001b[0m\n",
      "\u001b[1;32m~\\Anaconda3\\envs\\bash\\lib\\site-packages\\IPython\\core\\magics\\script.py\u001b[0m in \u001b[0;36mshebang\u001b[1;34m(self, line, cell)\u001b[0m\n\u001b[0;32m    243\u001b[0m             \u001b[0msys\u001b[0m\u001b[1;33m.\u001b[0m\u001b[0mstderr\u001b[0m\u001b[1;33m.\u001b[0m\u001b[0mflush\u001b[0m\u001b[1;33m(\u001b[0m\u001b[1;33m)\u001b[0m\u001b[1;33m\u001b[0m\u001b[1;33m\u001b[0m\u001b[0m\n\u001b[0;32m    244\u001b[0m         \u001b[1;32mif\u001b[0m \u001b[0margs\u001b[0m\u001b[1;33m.\u001b[0m\u001b[0mraise_error\u001b[0m \u001b[1;32mand\u001b[0m \u001b[0mp\u001b[0m\u001b[1;33m.\u001b[0m\u001b[0mreturncode\u001b[0m\u001b[1;33m!=\u001b[0m\u001b[1;36m0\u001b[0m\u001b[1;33m:\u001b[0m\u001b[1;33m\u001b[0m\u001b[1;33m\u001b[0m\u001b[0m\n\u001b[1;32m--> 245\u001b[1;33m             \u001b[1;32mraise\u001b[0m \u001b[0mCalledProcessError\u001b[0m\u001b[1;33m(\u001b[0m\u001b[0mp\u001b[0m\u001b[1;33m.\u001b[0m\u001b[0mreturncode\u001b[0m\u001b[1;33m,\u001b[0m \u001b[0mcell\u001b[0m\u001b[1;33m,\u001b[0m \u001b[0moutput\u001b[0m\u001b[1;33m=\u001b[0m\u001b[0mout\u001b[0m\u001b[1;33m,\u001b[0m \u001b[0mstderr\u001b[0m\u001b[1;33m=\u001b[0m\u001b[0merr\u001b[0m\u001b[1;33m)\u001b[0m\u001b[1;33m\u001b[0m\u001b[1;33m\u001b[0m\u001b[0m\n\u001b[0m\u001b[0;32m    246\u001b[0m \u001b[1;33m\u001b[0m\u001b[0m\n\u001b[0;32m    247\u001b[0m     \u001b[1;32mdef\u001b[0m \u001b[0m_run_script\u001b[0m\u001b[1;33m(\u001b[0m\u001b[0mself\u001b[0m\u001b[1;33m,\u001b[0m \u001b[0mp\u001b[0m\u001b[1;33m,\u001b[0m \u001b[0mcell\u001b[0m\u001b[1;33m,\u001b[0m \u001b[0mto_close\u001b[0m\u001b[1;33m)\u001b[0m\u001b[1;33m:\u001b[0m\u001b[1;33m\u001b[0m\u001b[1;33m\u001b[0m\u001b[0m\n",
      "\u001b[1;31mCalledProcessError\u001b[0m: Command 'b'./hello_world.bash\\n'' returned non-zero exit status 127."
     ]
    }
   ],
   "source": [
    "%%bash\n",
    "./hello_world.bash"
   ]
  },
  {
   "cell_type": "markdown",
   "id": "traditional-amber",
   "metadata": {},
   "source": [
    "<p>Functions calls from Bash scripts stored as files are not working.<br>\n",
    "The files were created with Notepad ++, including EOL and line operations.</p>"
   ]
  },
  {
   "cell_type": "code",
   "execution_count": null,
   "id": "crazy-digest",
   "metadata": {},
   "outputs": [],
   "source": [
    "%%bash\n",
    "find(){\n",
    "cat $1 | grep -e $2 -e $3\n",
    "}\n",
    "find \"poetry/poe_raven.txt\" \"dreary\" \"weary\""
   ]
  },
  {
   "cell_type": "code",
   "execution_count": null,
   "id": "remarkable-bubble",
   "metadata": {},
   "outputs": [],
   "source": [
    "%%bash\n",
    "echo \"find(){\" > sh/find.bash\n",
    "echo \"cat \\$1 | grep -e \\$2 -e \\$3\" >> sh/find.bash\n",
    "echo \"}\" >> sh/find.bash\n",
    "echo \"find\" >> sh/find.bash"
   ]
  },
  {
   "cell_type": "code",
   "execution_count": null,
   "id": "willing-university",
   "metadata": {},
   "outputs": [],
   "source": [
    "%%bash\n",
    "cat sh/find.bash"
   ]
  },
  {
   "cell_type": "code",
   "execution_count": null,
   "id": "micro-leeds",
   "metadata": {},
   "outputs": [],
   "source": [
    "%%bash\n",
    "ls sh | grep \"find\""
   ]
  },
  {
   "cell_type": "code",
   "execution_count": null,
   "id": "limited-groove",
   "metadata": {},
   "outputs": [],
   "source": [
    "# %%bash\n",
    "# ./sh/find.bash f'\"forgotten\" \"chamber\"'"
   ]
  },
  {
   "cell_type": "code",
   "execution_count": null,
   "id": "boring-impact",
   "metadata": {},
   "outputs": [],
   "source": [
    "%%bash\n",
    "./sh/find_33.bash"
   ]
  },
  {
   "cell_type": "code",
   "execution_count": null,
   "id": "constant-problem",
   "metadata": {},
   "outputs": [],
   "source": [
    "%%bash\n",
    "./sh/find_33.bash"
   ]
  },
  {
   "cell_type": "code",
   "execution_count": null,
   "id": "destroyed-beach",
   "metadata": {},
   "outputs": [],
   "source": [
    "%%bash\n",
    "replace(){\n",
    "    cat $1 | sed \"s|$2|$3|g\"\n",
    "}\n",
    "replace 'poetry/poe_raven.txt' 'dreary' 'gorgeous' | head -n 5"
   ]
  },
  {
   "cell_type": "code",
   "execution_count": null,
   "id": "obvious-gauge",
   "metadata": {},
   "outputs": [],
   "source": [
    "%%bash\n",
    "cat sh/replace.bash"
   ]
  },
  {
   "cell_type": "code",
   "execution_count": null,
   "id": "circular-radius",
   "metadata": {},
   "outputs": [],
   "source": [
    "%%bash\n",
    "./sh/replace.bash \"poetry/poe_raven.txt\" \"Once\" \"YYYY\" | cat"
   ]
  },
  {
   "cell_type": "code",
   "execution_count": null,
   "id": "young-hours",
   "metadata": {},
   "outputs": [],
   "source": [
    "%%bash\n",
    "./sh/replace.bash 'poetry/poe_raven.txt' 'Once' 'Twice' | head -n 5"
   ]
  },
  {
   "cell_type": "code",
   "execution_count": null,
   "id": "attached-sleeping",
   "metadata": {},
   "outputs": [],
   "source": [
    "%%bash\n",
    "./sh/replace.bash replace 'poetry/poe_raven.txt' 'Once' 'Twice' | cat"
   ]
  },
  {
   "cell_type": "markdown",
   "id": "backed-transcription",
   "metadata": {},
   "source": [
    "#### Restoring to initial situation."
   ]
  },
  {
   "cell_type": "code",
   "execution_count": null,
   "id": "ready-valentine",
   "metadata": {},
   "outputs": [],
   "source": []
  }
 ],
 "metadata": {
  "kernelspec": {
   "display_name": "Python [conda env:bash]",
   "language": "python",
   "name": "conda-env-bash-py"
  },
  "language_info": {
   "codemirror_mode": {
    "name": "ipython",
    "version": 3
   },
   "file_extension": ".py",
   "mimetype": "text/x-python",
   "name": "python",
   "nbconvert_exporter": "python",
   "pygments_lexer": "ipython3",
   "version": "3.9.6"
  }
 },
 "nbformat": 4,
 "nbformat_minor": 5
}
